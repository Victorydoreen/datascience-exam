{
 "cells": [
  {
   "cell_type": "markdown",
   "id": "a1d9fb32",
   "metadata": {},
   "source": [
    "# NAMYENYA DOREEN\n",
    "\n",
    "# REG NO. 2022/DCSE/029/SS\n"
   ]
  },
  {
   "cell_type": "code",
   "execution_count": 1,
   "id": "1e4b0694",
   "metadata": {},
   "outputs": [],
   "source": [
    "# Importing all librariaries that are needed\n",
    "import numpy as np\n",
    "import pandas as pd\n",
    "import matplotlib.pyplot as plt\n",
    "import seaborn as sns\n",
    "import sklearn as sk\n",
    "%matplotlib inline\n",
    "import empiricaldist\n",
    "from empiricaldist import Cdf\n",
    "import scipy\n",
    "from scipy.stats import norm\n"
   ]
  },
  {
   "cell_type": "markdown",
   "id": "da59bb57",
   "metadata": {},
   "source": [
    "#  QUESTION ONE\n",
    "\n",
    "In general it is a good idea to visualize the relationship between variables before you compute a\n",
    "correlation. Using the exam1 dataset. Generate a visualization of the relationship between any two\n",
    "continouse variables of your choice. How would you describe the relationship, if any?\n",
    "(a) Compute the descriptive statistics.\n",
    "(b) Explain and visualise the regression analysis results for variables: Confirmed cases as the dependent variable and socioeconomic variables in the dataset as the independent variables.\n"
   ]
  },
  {
   "cell_type": "code",
   "execution_count": 54,
   "id": "b7f31d2b",
   "metadata": {},
   "outputs": [
    {
     "data": {
      "text/html": [
       "<div>\n",
       "<style scoped>\n",
       "    .dataframe tbody tr th:only-of-type {\n",
       "        vertical-align: middle;\n",
       "    }\n",
       "\n",
       "    .dataframe tbody tr th {\n",
       "        vertical-align: top;\n",
       "    }\n",
       "\n",
       "    .dataframe thead th {\n",
       "        text-align: right;\n",
       "    }\n",
       "</style>\n",
       "<table border=\"1\" class=\"dataframe\">\n",
       "  <thead>\n",
       "    <tr style=\"text-align: right;\">\n",
       "      <th></th>\n",
       "      <th>Country Code</th>\n",
       "      <th>TableName</th>\n",
       "      <th>IncomeGroup</th>\n",
       "      <th>PopDensity_2018</th>\n",
       "      <th>Confirmed Cases</th>\n",
       "      <th>Deaths</th>\n",
       "      <th>Mortality Rate</th>\n",
       "      <th>Population_2019</th>\n",
       "      <th>GDP_2019</th>\n",
       "      <th>GDP_per_cap_2019</th>\n",
       "      <th>Main Leader Gender</th>\n",
       "      <th>Any Leader Gender</th>\n",
       "      <th>Avg Temp</th>\n",
       "      <th>Normalized Cases</th>\n",
       "      <th>Normalized Deaths</th>\n",
       "    </tr>\n",
       "  </thead>\n",
       "  <tbody>\n",
       "    <tr>\n",
       "      <th>0</th>\n",
       "      <td>AFG</td>\n",
       "      <td>Afghanistan</td>\n",
       "      <td>Low income</td>\n",
       "      <td>56.937760</td>\n",
       "      <td>39192</td>\n",
       "      <td>1453</td>\n",
       "      <td>3.707389</td>\n",
       "      <td>38041754</td>\n",
       "      <td>1.910135e+10</td>\n",
       "      <td>2293.551684</td>\n",
       "      <td>M</td>\n",
       "      <td>M</td>\n",
       "      <td>12.60</td>\n",
       "      <td>0.001030</td>\n",
       "      <td>3.820000e-05</td>\n",
       "    </tr>\n",
       "    <tr>\n",
       "      <th>1</th>\n",
       "      <td>AGO</td>\n",
       "      <td>Angola</td>\n",
       "      <td>Lower middle income</td>\n",
       "      <td>24.713052</td>\n",
       "      <td>4672</td>\n",
       "      <td>171</td>\n",
       "      <td>3.660103</td>\n",
       "      <td>31825295</td>\n",
       "      <td>9.463542e+10</td>\n",
       "      <td>6929.678158</td>\n",
       "      <td>M</td>\n",
       "      <td>M</td>\n",
       "      <td>21.55</td>\n",
       "      <td>0.000147</td>\n",
       "      <td>5.370000e-06</td>\n",
       "    </tr>\n",
       "    <tr>\n",
       "      <th>2</th>\n",
       "      <td>ALB</td>\n",
       "      <td>Albania</td>\n",
       "      <td>Upper middle income</td>\n",
       "      <td>104.612263</td>\n",
       "      <td>13153</td>\n",
       "      <td>375</td>\n",
       "      <td>2.851061</td>\n",
       "      <td>2854191</td>\n",
       "      <td>1.527808e+10</td>\n",
       "      <td>14495.078510</td>\n",
       "      <td>M</td>\n",
       "      <td>M</td>\n",
       "      <td>11.40</td>\n",
       "      <td>0.004608</td>\n",
       "      <td>1.313860e-04</td>\n",
       "    </tr>\n",
       "    <tr>\n",
       "      <th>3</th>\n",
       "      <td>AND</td>\n",
       "      <td>Andorra</td>\n",
       "      <td>High income</td>\n",
       "      <td>163.842553</td>\n",
       "      <td>1836</td>\n",
       "      <td>53</td>\n",
       "      <td>2.886710</td>\n",
       "      <td>77142</td>\n",
       "      <td>3.154058e+09</td>\n",
       "      <td>NaN</td>\n",
       "      <td>M</td>\n",
       "      <td>M</td>\n",
       "      <td>7.60</td>\n",
       "      <td>0.023800</td>\n",
       "      <td>6.870450e-04</td>\n",
       "    </tr>\n",
       "    <tr>\n",
       "      <th>4</th>\n",
       "      <td>ARE</td>\n",
       "      <td>United Arab Emirates</td>\n",
       "      <td>High income</td>\n",
       "      <td>135.609110</td>\n",
       "      <td>90618</td>\n",
       "      <td>411</td>\n",
       "      <td>0.453552</td>\n",
       "      <td>9770529</td>\n",
       "      <td>4.211420e+11</td>\n",
       "      <td>69900.877850</td>\n",
       "      <td>M</td>\n",
       "      <td>M</td>\n",
       "      <td>27.00</td>\n",
       "      <td>0.009275</td>\n",
       "      <td>4.210000e-05</td>\n",
       "    </tr>\n",
       "    <tr>\n",
       "      <th>...</th>\n",
       "      <td>...</td>\n",
       "      <td>...</td>\n",
       "      <td>...</td>\n",
       "      <td>...</td>\n",
       "      <td>...</td>\n",
       "      <td>...</td>\n",
       "      <td>...</td>\n",
       "      <td>...</td>\n",
       "      <td>...</td>\n",
       "      <td>...</td>\n",
       "      <td>...</td>\n",
       "      <td>...</td>\n",
       "      <td>...</td>\n",
       "      <td>...</td>\n",
       "      <td>...</td>\n",
       "    </tr>\n",
       "    <tr>\n",
       "      <th>177</th>\n",
       "      <td>VNM</td>\n",
       "      <td>Vietnam</td>\n",
       "      <td>Lower middle income</td>\n",
       "      <td>308.125246</td>\n",
       "      <td>1069</td>\n",
       "      <td>35</td>\n",
       "      <td>3.274088</td>\n",
       "      <td>96462106</td>\n",
       "      <td>2.619210e+11</td>\n",
       "      <td>8374.444328</td>\n",
       "      <td>M</td>\n",
       "      <td>M</td>\n",
       "      <td>24.45</td>\n",
       "      <td>0.000011</td>\n",
       "      <td>3.630000e-07</td>\n",
       "    </tr>\n",
       "    <tr>\n",
       "      <th>178</th>\n",
       "      <td>YEM</td>\n",
       "      <td>Yemen, Rep.</td>\n",
       "      <td>Low income</td>\n",
       "      <td>53.977853</td>\n",
       "      <td>2030</td>\n",
       "      <td>587</td>\n",
       "      <td>28.916256</td>\n",
       "      <td>29161922</td>\n",
       "      <td>NaN</td>\n",
       "      <td>NaN</td>\n",
       "      <td>M</td>\n",
       "      <td>M</td>\n",
       "      <td>23.85</td>\n",
       "      <td>0.000070</td>\n",
       "      <td>2.010000e-05</td>\n",
       "    </tr>\n",
       "    <tr>\n",
       "      <th>179</th>\n",
       "      <td>ZAF</td>\n",
       "      <td>South Africa</td>\n",
       "      <td>Upper middle income</td>\n",
       "      <td>47.630120</td>\n",
       "      <td>669498</td>\n",
       "      <td>16376</td>\n",
       "      <td>2.446012</td>\n",
       "      <td>58558270</td>\n",
       "      <td>3.514320e+11</td>\n",
       "      <td>12999.120260</td>\n",
       "      <td>M</td>\n",
       "      <td>M</td>\n",
       "      <td>17.75</td>\n",
       "      <td>0.011433</td>\n",
       "      <td>2.796530e-04</td>\n",
       "    </tr>\n",
       "    <tr>\n",
       "      <th>180</th>\n",
       "      <td>ZMB</td>\n",
       "      <td>Zambia</td>\n",
       "      <td>Lower middle income</td>\n",
       "      <td>23.341479</td>\n",
       "      <td>14612</td>\n",
       "      <td>332</td>\n",
       "      <td>2.272105</td>\n",
       "      <td>17861030</td>\n",
       "      <td>2.306472e+10</td>\n",
       "      <td>3623.699395</td>\n",
       "      <td>M</td>\n",
       "      <td>M</td>\n",
       "      <td>21.40</td>\n",
       "      <td>0.000818</td>\n",
       "      <td>1.860000e-05</td>\n",
       "    </tr>\n",
       "    <tr>\n",
       "      <th>181</th>\n",
       "      <td>ZWE</td>\n",
       "      <td>Zimbabwe</td>\n",
       "      <td>Lower middle income</td>\n",
       "      <td>37.324591</td>\n",
       "      <td>7803</td>\n",
       "      <td>227</td>\n",
       "      <td>2.909138</td>\n",
       "      <td>14645468</td>\n",
       "      <td>2.144076e+10</td>\n",
       "      <td>2953.484113</td>\n",
       "      <td>M</td>\n",
       "      <td>M</td>\n",
       "      <td>21.00</td>\n",
       "      <td>0.000533</td>\n",
       "      <td>1.550000e-05</td>\n",
       "    </tr>\n",
       "  </tbody>\n",
       "</table>\n",
       "<p>182 rows × 15 columns</p>\n",
       "</div>"
      ],
      "text/plain": [
       "    Country Code             TableName          IncomeGroup  PopDensity_2018  \\\n",
       "0            AFG           Afghanistan           Low income        56.937760   \n",
       "1            AGO                Angola  Lower middle income        24.713052   \n",
       "2            ALB               Albania  Upper middle income       104.612263   \n",
       "3            AND               Andorra          High income       163.842553   \n",
       "4            ARE  United Arab Emirates          High income       135.609110   \n",
       "..           ...                   ...                  ...              ...   \n",
       "177          VNM               Vietnam  Lower middle income       308.125246   \n",
       "178          YEM           Yemen, Rep.           Low income        53.977853   \n",
       "179          ZAF          South Africa  Upper middle income        47.630120   \n",
       "180          ZMB                Zambia  Lower middle income        23.341479   \n",
       "181          ZWE              Zimbabwe  Lower middle income        37.324591   \n",
       "\n",
       "     Confirmed Cases  Deaths  Mortality Rate  Population_2019      GDP_2019  \\\n",
       "0              39192    1453        3.707389         38041754  1.910135e+10   \n",
       "1               4672     171        3.660103         31825295  9.463542e+10   \n",
       "2              13153     375        2.851061          2854191  1.527808e+10   \n",
       "3               1836      53        2.886710            77142  3.154058e+09   \n",
       "4              90618     411        0.453552          9770529  4.211420e+11   \n",
       "..               ...     ...             ...              ...           ...   \n",
       "177             1069      35        3.274088         96462106  2.619210e+11   \n",
       "178             2030     587       28.916256         29161922           NaN   \n",
       "179           669498   16376        2.446012         58558270  3.514320e+11   \n",
       "180            14612     332        2.272105         17861030  2.306472e+10   \n",
       "181             7803     227        2.909138         14645468  2.144076e+10   \n",
       "\n",
       "     GDP_per_cap_2019 Main Leader Gender Any Leader Gender  Avg Temp  \\\n",
       "0         2293.551684                  M                 M     12.60   \n",
       "1         6929.678158                  M                 M     21.55   \n",
       "2        14495.078510                  M                 M     11.40   \n",
       "3                 NaN                  M                 M      7.60   \n",
       "4        69900.877850                  M                 M     27.00   \n",
       "..                ...                ...               ...       ...   \n",
       "177       8374.444328                  M                 M     24.45   \n",
       "178               NaN                  M                 M     23.85   \n",
       "179      12999.120260                  M                 M     17.75   \n",
       "180       3623.699395                  M                 M     21.40   \n",
       "181       2953.484113                  M                 M     21.00   \n",
       "\n",
       "     Normalized Cases  Normalized Deaths  \n",
       "0            0.001030       3.820000e-05  \n",
       "1            0.000147       5.370000e-06  \n",
       "2            0.004608       1.313860e-04  \n",
       "3            0.023800       6.870450e-04  \n",
       "4            0.009275       4.210000e-05  \n",
       "..                ...                ...  \n",
       "177          0.000011       3.630000e-07  \n",
       "178          0.000070       2.010000e-05  \n",
       "179          0.011433       2.796530e-04  \n",
       "180          0.000818       1.860000e-05  \n",
       "181          0.000533       1.550000e-05  \n",
       "\n",
       "[182 rows x 15 columns]"
      ]
     },
     "execution_count": 54,
     "metadata": {},
     "output_type": "execute_result"
    }
   ],
   "source": [
    "# Extracting the data\n",
    "dataset=pd.read_csv('exam1.csv')\n",
    "dataset"
   ]
  },
  {
   "cell_type": "code",
   "execution_count": 15,
   "id": "b568f41d",
   "metadata": {},
   "outputs": [
    {
     "data": {
      "text/plain": [
       "Index(['Country Code', 'TableName', 'IncomeGroup', 'PopDensity_2018',\n",
       "       'Confirmed Cases', 'Deaths', 'Mortality Rate', 'Population_2019',\n",
       "       'GDP_2019', 'GDP_per_cap_2019', 'Main Leader Gender',\n",
       "       'Any Leader Gender', 'Avg Temp', 'Normalized Cases',\n",
       "       'Normalized Deaths'],\n",
       "      dtype='object')"
      ]
     },
     "execution_count": 15,
     "metadata": {},
     "output_type": "execute_result"
    }
   ],
   "source": [
    "dataset.columns"
   ]
  },
  {
   "cell_type": "code",
   "execution_count": 22,
   "id": "b55ead17",
   "metadata": {},
   "outputs": [
    {
     "data": {
      "text/plain": [
       "0       39192\n",
       "1        4672\n",
       "2       13153\n",
       "3        1836\n",
       "4       90618\n",
       "        ...  \n",
       "177      1069\n",
       "178      2030\n",
       "179    669498\n",
       "180     14612\n",
       "181      7803\n",
       "Name: Confirmed Cases, Length: 182, dtype: int64"
      ]
     },
     "execution_count": 22,
     "metadata": {},
     "output_type": "execute_result"
    }
   ],
   "source": [
    "# To generate the visualization relationship between variables, i have chosen comfirmed cases and deaths\n",
    "\n",
    "m=dataset.loc[:,'Confirmed Cases']\n",
    "m"
   ]
  },
  {
   "cell_type": "code",
   "execution_count": 23,
   "id": "9ef95f43",
   "metadata": {},
   "outputs": [
    {
     "data": {
      "text/plain": [
       "0       1453\n",
       "1        171\n",
       "2        375\n",
       "3         53\n",
       "4        411\n",
       "       ...  \n",
       "177       35\n",
       "178      587\n",
       "179    16376\n",
       "180      332\n",
       "181      227\n",
       "Name: Deaths, Length: 182, dtype: int64"
      ]
     },
     "execution_count": 23,
     "metadata": {},
     "output_type": "execute_result"
    }
   ],
   "source": [
    "n=dataset.loc[:,'Deaths']\n",
    "n"
   ]
  },
  {
   "cell_type": "code",
   "execution_count": 26,
   "id": "56d9c9c7",
   "metadata": {},
   "outputs": [
    {
     "data": {
      "text/plain": [
       "Text(0.5, 1.0, 'scatter plot of Comfirmed cases against Deaths per 1000')"
      ]
     },
     "execution_count": 26,
     "metadata": {},
     "output_type": "execute_result"
    },
    {
     "data": {
      "image/png": "[encoded data removed]",
      "text/plain": [
       "<Figure size 640x480 with 1 Axes>"
      ]
     },
     "metadata": {},
     "output_type": "display_data"
    }
   ],
   "source": [
    "plt.plot(m,n,'o');\n",
    "plt.xlabel(\"Comfirmed cases \")\n",
    "plt.ylabel('Deaths')\n",
    "plt.title(\"scatter plot of Comfirmed cases against Deaths per 1000\")"
   ]
  },
  {
   "cell_type": "markdown",
   "id": "4954e7d0",
   "metadata": {},
   "source": [
    "# Explanation\n",
    "    According to the above scatter plot, there is postive relationship between comfirmed cases and deaths, that means that when the comfirmed cases are low, the deaths per 1000 will also be low.. The more the comfirmed cases, there will be an increase in the deaths .."
   ]
  },
  {
   "cell_type": "code",
   "execution_count": 27,
   "id": "a10097cd",
   "metadata": {},
   "outputs": [
    {
     "data": {
      "text/html": [
       "<div>\n",
       "<style scoped>\n",
       "    .dataframe tbody tr th:only-of-type {\n",
       "        vertical-align: middle;\n",
       "    }\n",
       "\n",
       "    .dataframe tbody tr th {\n",
       "        vertical-align: top;\n",
       "    }\n",
       "\n",
       "    .dataframe thead th {\n",
       "        text-align: right;\n",
       "    }\n",
       "</style>\n",
       "<table border=\"1\" class=\"dataframe\">\n",
       "  <thead>\n",
       "    <tr style=\"text-align: right;\">\n",
       "      <th></th>\n",
       "      <th>PopDensity_2018</th>\n",
       "      <th>Confirmed Cases</th>\n",
       "      <th>Deaths</th>\n",
       "      <th>Mortality Rate</th>\n",
       "      <th>Population_2019</th>\n",
       "      <th>GDP_2019</th>\n",
       "      <th>GDP_per_cap_2019</th>\n",
       "      <th>Avg Temp</th>\n",
       "      <th>Normalized Cases</th>\n",
       "      <th>Normalized Deaths</th>\n",
       "    </tr>\n",
       "  </thead>\n",
       "  <tbody>\n",
       "    <tr>\n",
       "      <th>count</th>\n",
       "      <td>178.000000</td>\n",
       "      <td>1.820000e+02</td>\n",
       "      <td>182.000000</td>\n",
       "      <td>182.000000</td>\n",
       "      <td>1.820000e+02</td>\n",
       "      <td>1.690000e+02</td>\n",
       "      <td>168.000000</td>\n",
       "      <td>179.000000</td>\n",
       "      <td>182.000000</td>\n",
       "      <td>182.000000</td>\n",
       "    </tr>\n",
       "    <tr>\n",
       "      <th>mean</th>\n",
       "      <td>209.578681</td>\n",
       "      <td>1.798681e+05</td>\n",
       "      <td>5453.186813</td>\n",
       "      <td>2.552053</td>\n",
       "      <td>4.176762e+07</td>\n",
       "      <td>5.037484e+11</td>\n",
       "      <td>22175.663497</td>\n",
       "      <td>18.511117</td>\n",
       "      <td>0.005142</td>\n",
       "      <td>0.000126</td>\n",
       "    </tr>\n",
       "    <tr>\n",
       "      <th>std</th>\n",
       "      <td>642.276577</td>\n",
       "      <td>7.728216e+05</td>\n",
       "      <td>21079.533796</td>\n",
       "      <td>2.807438</td>\n",
       "      <td>1.494774e+08</td>\n",
       "      <td>2.060972e+12</td>\n",
       "      <td>22028.464791</td>\n",
       "      <td>8.179984</td>\n",
       "      <td>0.007289</td>\n",
       "      <td>0.000208</td>\n",
       "    </tr>\n",
       "    <tr>\n",
       "      <th>min</th>\n",
       "      <td>2.040609</td>\n",
       "      <td>1.900000e+01</td>\n",
       "      <td>0.000000</td>\n",
       "      <td>0.000000</td>\n",
       "      <td>3.386000e+04</td>\n",
       "      <td>4.290166e+08</td>\n",
       "      <td>782.816589</td>\n",
       "      <td>-5.100000</td>\n",
       "      <td>0.000003</td>\n",
       "      <td>0.000000</td>\n",
       "    </tr>\n",
       "    <tr>\n",
       "      <th>25%</th>\n",
       "      <td>37.143092</td>\n",
       "      <td>2.930250e+03</td>\n",
       "      <td>50.000000</td>\n",
       "      <td>1.063698</td>\n",
       "      <td>2.689939e+06</td>\n",
       "      <td>1.282700e+10</td>\n",
       "      <td>5398.131919</td>\n",
       "      <td>10.625000</td>\n",
       "      <td>0.000540</td>\n",
       "      <td>0.000008</td>\n",
       "    </tr>\n",
       "    <tr>\n",
       "      <th>50%</th>\n",
       "      <td>83.949492</td>\n",
       "      <td>1.337950e+04</td>\n",
       "      <td>228.000000</td>\n",
       "      <td>2.004451</td>\n",
       "      <td>9.758033e+06</td>\n",
       "      <td>4.731962e+10</td>\n",
       "      <td>14747.947505</td>\n",
       "      <td>21.850000</td>\n",
       "      <td>0.002313</td>\n",
       "      <td>0.000038</td>\n",
       "    </tr>\n",
       "    <tr>\n",
       "      <th>75%</th>\n",
       "      <td>204.487818</td>\n",
       "      <td>7.642675e+04</td>\n",
       "      <td>1450.000000</td>\n",
       "      <td>3.071983</td>\n",
       "      <td>3.040490e+07</td>\n",
       "      <td>2.619210e+11</td>\n",
       "      <td>32413.601215</td>\n",
       "      <td>25.325000</td>\n",
       "      <td>0.006527</td>\n",
       "      <td>0.000135</td>\n",
       "    </tr>\n",
       "    <tr>\n",
       "      <th>max</th>\n",
       "      <td>7952.998418</td>\n",
       "      <td>7.078039e+06</td>\n",
       "      <td>204486.000000</td>\n",
       "      <td>28.916256</td>\n",
       "      <td>1.397715e+09</td>\n",
       "      <td>2.137440e+13</td>\n",
       "      <td>121292.739300</td>\n",
       "      <td>28.290000</td>\n",
       "      <td>0.044084</td>\n",
       "      <td>0.001240</td>\n",
       "    </tr>\n",
       "  </tbody>\n",
       "</table>\n",
       "</div>"
      ],
      "text/plain": [
       "       PopDensity_2018  Confirmed Cases         Deaths  Mortality Rate  \\\n",
       "count       178.000000     1.820000e+02     182.000000      182.000000   \n",
       "mean        209.578681     1.798681e+05    5453.186813        2.552053   \n",
       "std         642.276577     7.728216e+05   21079.533796        2.807438   \n",
       "min           2.040609     1.900000e+01       0.000000        0.000000   \n",
       "25%          37.143092     2.930250e+03      50.000000        1.063698   \n",
       "50%          83.949492     1.337950e+04     228.000000        2.004451   \n",
       "75%         204.487818     7.642675e+04    1450.000000        3.071983   \n",
       "max        7952.998418     7.078039e+06  204486.000000       28.916256   \n",
       "\n",
       "       Population_2019      GDP_2019  GDP_per_cap_2019    Avg Temp  \\\n",
       "count     1.820000e+02  1.690000e+02        168.000000  179.000000   \n",
       "mean      4.176762e+07  5.037484e+11      22175.663497   18.511117   \n",
       "std       1.494774e+08  2.060972e+12      22028.464791    8.179984   \n",
       "min       3.386000e+04  4.290166e+08        782.816589   -5.100000   \n",
       "25%       2.689939e+06  1.282700e+10       5398.131919   10.625000   \n",
       "50%       9.758033e+06  4.731962e+10      14747.947505   21.850000   \n",
       "75%       3.040490e+07  2.619210e+11      32413.601215   25.325000   \n",
       "max       1.397715e+09  2.137440e+13     121292.739300   28.290000   \n",
       "\n",
       "       Normalized Cases  Normalized Deaths  \n",
       "count        182.000000         182.000000  \n",
       "mean           0.005142           0.000126  \n",
       "std            0.007289           0.000208  \n",
       "min            0.000003           0.000000  \n",
       "25%            0.000540           0.000008  \n",
       "50%            0.002313           0.000038  \n",
       "75%            0.006527           0.000135  \n",
       "max            0.044084           0.001240  "
      ]
     },
     "execution_count": 27,
     "metadata": {},
     "output_type": "execute_result"
    }
   ],
   "source": [
    "# 1 part(a) computing the descriptive statistics\n",
    "# here we'll find the sum, mean, standard deviation....\n",
    "\n",
    "dataset.describe()\n",
    "# This function describes for you the data set for each of the variables,\n",
    "# by computing the sum, mean, standard deviation, minimum, maximum, interquartile among others for each of the variables."
   ]
  },
  {
   "cell_type": "code",
   "execution_count": 28,
   "id": "29dca8a6",
   "metadata": {},
   "outputs": [
    {
     "data": {
      "text/plain": [
       "0       56.937760\n",
       "1       24.713052\n",
       "2      104.612263\n",
       "3      163.842553\n",
       "4      135.609110\n",
       "          ...    \n",
       "177    308.125246\n",
       "178     53.977853\n",
       "179     47.630120\n",
       "180     23.341479\n",
       "181     37.324591\n",
       "Name: PopDensity_2018, Length: 182, dtype: float64"
      ]
     },
     "execution_count": 28,
     "metadata": {},
     "output_type": "execute_result"
    }
   ],
   "source": [
    "# if i go ahead to pick out a specific variable say popDensity_2018, and compute its descriptive statistics,\n",
    "# i w ill get the same results as those computed for it above; \n",
    "\n",
    "x=dataset.loc[:,'PopDensity_2018']\n",
    "x"
   ]
  },
  {
   "cell_type": "code",
   "execution_count": 29,
   "id": "ed96fd55",
   "metadata": {},
   "outputs": [
    {
     "data": {
      "text/plain": [
       "209.5786809033259"
      ]
     },
     "execution_count": 29,
     "metadata": {},
     "output_type": "execute_result"
    }
   ],
   "source": [
    "x.mean()"
   ]
  },
  {
   "cell_type": "code",
   "execution_count": 30,
   "id": "b46f6553",
   "metadata": {},
   "outputs": [
    {
     "data": {
      "text/plain": [
       "642.2765770750084"
      ]
     },
     "execution_count": 30,
     "metadata": {},
     "output_type": "execute_result"
    }
   ],
   "source": [
    "x.std()"
   ]
  },
  {
   "cell_type": "code",
   "execution_count": 31,
   "id": "bbead025",
   "metadata": {},
   "outputs": [
    {
     "data": {
      "text/plain": [
       "7952.998418"
      ]
     },
     "execution_count": 31,
     "metadata": {},
     "output_type": "execute_result"
    }
   ],
   "source": [
    "x.max()"
   ]
  },
  {
   "cell_type": "code",
   "execution_count": 33,
   "id": "70ab36a2",
   "metadata": {},
   "outputs": [
    {
     "data": {
      "text/plain": [
       "Index(['Country Code', 'TableName', 'IncomeGroup', 'PopDensity_2018',\n",
       "       'Confirmed Cases', 'Deaths', 'Mortality Rate', 'Population_2019',\n",
       "       'GDP_2019', 'GDP_per_cap_2019', 'Main Leader Gender',\n",
       "       'Any Leader Gender', 'Avg Temp', 'Normalized Cases',\n",
       "       'Normalized Deaths'],\n",
       "      dtype='object')"
      ]
     },
     "execution_count": 33,
     "metadata": {},
     "output_type": "execute_result"
    }
   ],
   "source": [
    "dataset.columns"
   ]
  },
  {
   "cell_type": "markdown",
   "id": "7d609cc9",
   "metadata": {},
   "source": [
    "#  1 (b) \n",
    "Explain and visualise the regression analysis results for variables: \n",
    "Confirmed cases as the dependent variable and socioeconomic variables in the dataset as the independent variables.\n",
    "\n",
    "dependent variable is Comfirmed cases\n",
    "independent variables will be Income group, GDP_2019, GDP_per_cap_2019,popDensity_2018 etc\n"
   ]
  },
  {
   "cell_type": "code",
   "execution_count": 35,
   "id": "f317f26a",
   "metadata": {},
   "outputs": [
    {
     "data": {
      "text/plain": [
       "0       39192\n",
       "1        4672\n",
       "2       13153\n",
       "3        1836\n",
       "4       90618\n",
       "        ...  \n",
       "177      1069\n",
       "178      2030\n",
       "179    669498\n",
       "180     14612\n",
       "181      7803\n",
       "Name: Confirmed Cases, Length: 182, dtype: int64"
      ]
     },
     "execution_count": 35,
     "metadata": {},
     "output_type": "execute_result"
    }
   ],
   "source": [
    "# dependent variable (y);\n",
    "y=dataset.loc[:,'Confirmed Cases']\n",
    "y"
   ]
  },
  {
   "cell_type": "code",
   "execution_count": 36,
   "id": "45b29e86",
   "metadata": {},
   "outputs": [
    {
     "data": {
      "text/plain": [
       "0               Low income\n",
       "1      Lower middle income\n",
       "2      Upper middle income\n",
       "3              High income\n",
       "4              High income\n",
       "              ...         \n",
       "177    Lower middle income\n",
       "178             Low income\n",
       "179    Upper middle income\n",
       "180    Lower middle income\n",
       "181    Lower middle income\n",
       "Name: IncomeGroup, Length: 182, dtype: object"
      ]
     },
     "execution_count": 36,
     "metadata": {},
     "output_type": "execute_result"
    }
   ],
   "source": [
    "# independent variables below;\n",
    "p=dataset.loc[:,'IncomeGroup']\n",
    "p\n"
   ]
  },
  {
   "cell_type": "code",
   "execution_count": null,
   "id": "4dae4dcd",
   "metadata": {},
   "outputs": [],
   "source": []
  },
  {
   "cell_type": "code",
   "execution_count": 37,
   "id": "eba18e1d",
   "metadata": {},
   "outputs": [
    {
     "data": {
      "text/plain": [
       "0      1.910135e+10\n",
       "1      9.463542e+10\n",
       "2      1.527808e+10\n",
       "3      3.154058e+09\n",
       "4      4.211420e+11\n",
       "           ...     \n",
       "177    2.619210e+11\n",
       "178             NaN\n",
       "179    3.514320e+11\n",
       "180    2.306472e+10\n",
       "181    2.144076e+10\n",
       "Name: GDP_2019, Length: 182, dtype: float64"
      ]
     },
     "execution_count": 37,
     "metadata": {},
     "output_type": "execute_result"
    }
   ],
   "source": [
    "q=dataset.loc[:,'GDP_2019']\n",
    "q"
   ]
  },
  {
   "cell_type": "code",
   "execution_count": 38,
   "id": "83f37919",
   "metadata": {},
   "outputs": [
    {
     "data": {
      "text/plain": [
       "0       2293.551684\n",
       "1       6929.678158\n",
       "2      14495.078510\n",
       "3               NaN\n",
       "4      69900.877850\n",
       "           ...     \n",
       "177     8374.444328\n",
       "178             NaN\n",
       "179    12999.120260\n",
       "180     3623.699395\n",
       "181     2953.484113\n",
       "Name: GDP_per_cap_2019, Length: 182, dtype: float64"
      ]
     },
     "execution_count": 38,
     "metadata": {},
     "output_type": "execute_result"
    }
   ],
   "source": [
    "r=dataset.loc[:,'GDP_per_cap_2019']\n",
    "r"
   ]
  },
  {
   "cell_type": "code",
   "execution_count": 39,
   "id": "22744f4e",
   "metadata": {
    "scrolled": true
   },
   "outputs": [
    {
     "data": {
      "text/plain": [
       "0      M\n",
       "1      M\n",
       "2      M\n",
       "3      M\n",
       "4      M\n",
       "      ..\n",
       "177    M\n",
       "178    M\n",
       "179    M\n",
       "180    M\n",
       "181    M\n",
       "Name: Main Leader Gender, Length: 182, dtype: object"
      ]
     },
     "execution_count": 39,
     "metadata": {},
     "output_type": "execute_result"
    }
   ],
   "source": [
    "s=dataset.loc[:,'Main Leader Gender']\n",
    "s"
   ]
  },
  {
   "cell_type": "code",
   "execution_count": 40,
   "id": "86d6bcb6",
   "metadata": {},
   "outputs": [
    {
     "data": {
      "text/plain": [
       "0       56.937760\n",
       "1       24.713052\n",
       "2      104.612263\n",
       "3      163.842553\n",
       "4      135.609110\n",
       "          ...    \n",
       "177    308.125246\n",
       "178     53.977853\n",
       "179     47.630120\n",
       "180     23.341479\n",
       "181     37.324591\n",
       "Name: PopDensity_2018, Length: 182, dtype: float64"
      ]
     },
     "execution_count": 40,
     "metadata": {},
     "output_type": "execute_result"
    }
   ],
   "source": [
    "x=dataset.loc[:,'PopDensity_2018']\n",
    "x"
   ]
  },
  {
   "cell_type": "code",
   "execution_count": 42,
   "id": "046a289c",
   "metadata": {
    "scrolled": true
   },
   "outputs": [
    {
     "data": {
      "text/plain": [
       "Text(0.5, 1.0, 'scatter plot of Income group against Comfirmed cases')"
      ]
     },
     "execution_count": 42,
     "metadata": {},
     "output_type": "execute_result"
    },
    {
     "data": {
      "image/png": "[encoded data removed]",
      "text/plain": [
       "<Figure size 640x480 with 1 Axes>"
      ]
     },
     "metadata": {},
     "output_type": "display_data"
    }
   ],
   "source": [
    "# Pairwise plots of independent variables and dependent variable,below;\n",
    "\n",
    "plt.plot(p,y,'s');\n",
    "plt.xlabel(\"Income group \")\n",
    "plt.ylabel('Comfirmed cases')\n",
    "plt.title(\"scatter plot of Income group against Comfirmed cases\")\n",
    "\n"
   ]
  },
  {
   "cell_type": "code",
   "execution_count": 46,
   "id": "c73d8c18",
   "metadata": {},
   "outputs": [
    {
     "data": {
      "text/plain": [
       "Text(0.5, 1.0, 'scatter plot of GDP_2019 against Comfirmed cases')"
      ]
     },
     "execution_count": 46,
     "metadata": {},
     "output_type": "execute_result"
    },
    {
     "data": {
      "image/png": "[encoded data removed]",
      "text/plain": [
       "<Figure size 640x480 with 1 Axes>"
      ]
     },
     "metadata": {},
     "output_type": "display_data"
    }
   ],
   "source": [
    "plt.plot(q,y,'s');\n",
    "plt.xlabel(\"GDP_2019 \")\n",
    "plt.ylabel('Comfirmed cases')\n",
    "plt.title(\"scatter plot of GDP_2019 against Comfirmed cases\")"
   ]
  },
  {
   "cell_type": "code",
   "execution_count": 45,
   "id": "ef8bdda1",
   "metadata": {},
   "outputs": [
    {
     "data": {
      "text/plain": [
       "Text(0.5, 1.0, 'scatter plot of GDP_per_cap_2019 against Comfirmed cases')"
      ]
     },
     "execution_count": 45,
     "metadata": {},
     "output_type": "execute_result"
    },
    {
     "data": {
      "image/png": "[encoded data removed]",
      "text/plain": [
       "<Figure size 640x480 with 1 Axes>"
      ]
     },
     "metadata": {},
     "output_type": "display_data"
    }
   ],
   "source": [
    "plt.plot(r,y,'o');\n",
    "plt.xlabel(\"GDP_per_cap_2019 \")\n",
    "plt.ylabel('Comfirmed cases')\n",
    "plt.title(\"scatter plot of GDP_per_cap_2019 against Comfirmed cases\")"
   ]
  },
  {
   "cell_type": "code",
   "execution_count": 44,
   "id": "1d173710",
   "metadata": {
    "scrolled": true
   },
   "outputs": [
    {
     "data": {
      "text/plain": [
       "Text(0.5, 1.0, 'scatter plot of PopDensity_2018 against Comfirmed cases')"
      ]
     },
     "execution_count": 44,
     "metadata": {},
     "output_type": "execute_result"
    },
    {
     "data": {
      "image/png": "[encoded data removed]",
      "text/plain": [
       "<Figure size 640x480 with 1 Axes>"
      ]
     },
     "metadata": {},
     "output_type": "display_data"
    }
   ],
   "source": [
    "plt.plot(x,y,'o');\n",
    "plt.xlabel(\"PopDensity_2018 \")\n",
    "plt.ylabel('Comfirmed cases')\n",
    "plt.title(\"scatter plot of PopDensity_2018 against Comfirmed cases\")"
   ]
  },
  {
   "cell_type": "code",
   "execution_count": null,
   "id": "83ba19f5",
   "metadata": {},
   "outputs": [],
   "source": []
  },
  {
   "cell_type": "code",
   "execution_count": null,
   "id": "a6f1cd9e",
   "metadata": {},
   "outputs": [],
   "source": []
  },
  {
   "cell_type": "code",
   "execution_count": null,
   "id": "9f458bb9",
   "metadata": {
    "scrolled": false
   },
   "outputs": [],
   "source": []
  },
  {
   "cell_type": "code",
   "execution_count": null,
   "id": "97d8d201",
   "metadata": {},
   "outputs": [],
   "source": []
  },
  {
   "cell_type": "code",
   "execution_count": 56,
   "id": "2369d11b",
   "metadata": {},
   "outputs": [
    {
     "data": {
      "text/html": [
       "<div>\n",
       "<style scoped>\n",
       "    .dataframe tbody tr th:only-of-type {\n",
       "        vertical-align: middle;\n",
       "    }\n",
       "\n",
       "    .dataframe tbody tr th {\n",
       "        vertical-align: top;\n",
       "    }\n",
       "\n",
       "    .dataframe thead th {\n",
       "        text-align: right;\n",
       "    }\n",
       "</style>\n",
       "<table border=\"1\" class=\"dataframe\">\n",
       "  <thead>\n",
       "    <tr style=\"text-align: right;\">\n",
       "      <th></th>\n",
       "      <th>GDP_per_cap_2019</th>\n",
       "      <th>PopDensity_2018</th>\n",
       "      <th>GDP_2019</th>\n",
       "    </tr>\n",
       "  </thead>\n",
       "  <tbody>\n",
       "    <tr>\n",
       "      <th>GDP_per_cap_2019</th>\n",
       "      <td>1.000000</td>\n",
       "      <td>0.294486</td>\n",
       "      <td>0.214056</td>\n",
       "    </tr>\n",
       "    <tr>\n",
       "      <th>PopDensity_2018</th>\n",
       "      <td>0.294486</td>\n",
       "      <td>1.000000</td>\n",
       "      <td>-0.009921</td>\n",
       "    </tr>\n",
       "    <tr>\n",
       "      <th>GDP_2019</th>\n",
       "      <td>0.214056</td>\n",
       "      <td>-0.009921</td>\n",
       "      <td>1.000000</td>\n",
       "    </tr>\n",
       "  </tbody>\n",
       "</table>\n",
       "</div>"
      ],
      "text/plain": [
       "                  GDP_per_cap_2019  PopDensity_2018  GDP_2019\n",
       "GDP_per_cap_2019          1.000000         0.294486  0.214056\n",
       "PopDensity_2018           0.294486         1.000000 -0.009921\n",
       "GDP_2019                  0.214056        -0.009921  1.000000"
      ]
     },
     "execution_count": 56,
     "metadata": {},
     "output_type": "execute_result"
    }
   ],
   "source": [
    "m=['GDP_per_cap_2019','PopDensity_2018', 'GDP_2019']\n",
    "subset=dataset[m]\n",
    "subset.corr()"
   ]
  },
  {
   "cell_type": "code",
   "execution_count": 58,
   "id": "c2ace679",
   "metadata": {},
   "outputs": [
    {
     "data": {
      "text/plain": [
       "<AxesSubplot:>"
      ]
     },
     "execution_count": 58,
     "metadata": {},
     "output_type": "execute_result"
    },
    {
     "data": {
      "image/png": "[encoded data removed]",
      "text/plain": [
       "<Figure size 640x480 with 2 Axes>"
      ]
     },
     "metadata": {},
     "output_type": "display_data"
    }
   ],
   "source": [
    "sns.heatmap(subset.corr())"
   ]
  },
  {
   "cell_type": "code",
   "execution_count": null,
   "id": "81bd3b29",
   "metadata": {},
   "outputs": [],
   "source": []
  },
  {
   "cell_type": "code",
   "execution_count": null,
   "id": "397571a5",
   "metadata": {},
   "outputs": [],
   "source": []
  },
  {
   "cell_type": "markdown",
   "id": "9dc8423f",
   "metadata": {},
   "source": [
    "# QUESTION TWO\n",
    " Using the taxi dataset. Investigate whether the variable of total amount follows a normal distribution.\n",
    "Plot the CDF of the total amount variable in the dataset.\n",
    "(a) Compute the mean and standard deviation of continous variables in the dataset.\n",
    "(b) Create a normal distribution with the same mean and standard deviation as the data, then use\n",
    "it to compute the normal CDF for each value in the array.\n",
    "(c) Plot the normal CDF with a gray line\n"
   ]
  },
  {
   "cell_type": "code",
   "execution_count": 47,
   "id": "ffcb2dbd",
   "metadata": {},
   "outputs": [
    {
     "data": {
      "text/html": [
       "<div>\n",
       "<style scoped>\n",
       "    .dataframe tbody tr th:only-of-type {\n",
       "        vertical-align: middle;\n",
       "    }\n",
       "\n",
       "    .dataframe tbody tr th {\n",
       "        vertical-align: top;\n",
       "    }\n",
       "\n",
       "    .dataframe thead th {\n",
       "        text-align: right;\n",
       "    }\n",
       "</style>\n",
       "<table border=\"1\" class=\"dataframe\">\n",
       "  <thead>\n",
       "    <tr style=\"text-align: right;\">\n",
       "      <th></th>\n",
       "      <th>VendorID</th>\n",
       "      <th>tpep_pickup_datetime</th>\n",
       "      <th>tpep_dropoff_datetime</th>\n",
       "      <th>passenger_count</th>\n",
       "      <th>trip_distance</th>\n",
       "      <th>RatecodeID</th>\n",
       "      <th>store_and_fwd_flag</th>\n",
       "      <th>PULocationID</th>\n",
       "      <th>DOLocationID</th>\n",
       "      <th>payment_type</th>\n",
       "      <th>fare_amount</th>\n",
       "      <th>extra</th>\n",
       "      <th>mta_tax</th>\n",
       "      <th>tip_amount</th>\n",
       "      <th>tolls_amount</th>\n",
       "      <th>improvement_surcharge</th>\n",
       "      <th>total_amount</th>\n",
       "      <th>congestion_surcharge</th>\n",
       "    </tr>\n",
       "  </thead>\n",
       "  <tbody>\n",
       "    <tr>\n",
       "      <th>0</th>\n",
       "      <td>2</td>\n",
       "      <td>7/15/2019 16:27</td>\n",
       "      <td>7/15/2019 16:44</td>\n",
       "      <td>3</td>\n",
       "      <td>2.02</td>\n",
       "      <td>1</td>\n",
       "      <td>N</td>\n",
       "      <td>186</td>\n",
       "      <td>233</td>\n",
       "      <td>1</td>\n",
       "      <td>12.0</td>\n",
       "      <td>1.0</td>\n",
       "      <td>0.5</td>\n",
       "      <td>4.08</td>\n",
       "      <td>0.0</td>\n",
       "      <td>0.3</td>\n",
       "      <td>20.38</td>\n",
       "      <td>2.5</td>\n",
       "    </tr>\n",
       "    <tr>\n",
       "      <th>1</th>\n",
       "      <td>2</td>\n",
       "      <td>7/17/2019 20:26</td>\n",
       "      <td>7/17/2019 20:40</td>\n",
       "      <td>6</td>\n",
       "      <td>1.59</td>\n",
       "      <td>1</td>\n",
       "      <td>N</td>\n",
       "      <td>141</td>\n",
       "      <td>161</td>\n",
       "      <td>2</td>\n",
       "      <td>10.0</td>\n",
       "      <td>0.5</td>\n",
       "      <td>0.5</td>\n",
       "      <td>0.00</td>\n",
       "      <td>0.0</td>\n",
       "      <td>0.3</td>\n",
       "      <td>13.80</td>\n",
       "      <td>2.5</td>\n",
       "    </tr>\n",
       "    <tr>\n",
       "      <th>2</th>\n",
       "      <td>2</td>\n",
       "      <td>7/6/2019 16:01</td>\n",
       "      <td>7/6/2019 16:10</td>\n",
       "      <td>1</td>\n",
       "      <td>1.69</td>\n",
       "      <td>1</td>\n",
       "      <td>N</td>\n",
       "      <td>246</td>\n",
       "      <td>249</td>\n",
       "      <td>2</td>\n",
       "      <td>8.5</td>\n",
       "      <td>0.0</td>\n",
       "      <td>0.5</td>\n",
       "      <td>0.00</td>\n",
       "      <td>0.0</td>\n",
       "      <td>0.3</td>\n",
       "      <td>11.80</td>\n",
       "      <td>2.5</td>\n",
       "    </tr>\n",
       "    <tr>\n",
       "      <th>3</th>\n",
       "      <td>1</td>\n",
       "      <td>7/18/2019 22:32</td>\n",
       "      <td>7/18/2019 22:35</td>\n",
       "      <td>1</td>\n",
       "      <td>0.90</td>\n",
       "      <td>1</td>\n",
       "      <td>N</td>\n",
       "      <td>229</td>\n",
       "      <td>141</td>\n",
       "      <td>1</td>\n",
       "      <td>4.5</td>\n",
       "      <td>3.0</td>\n",
       "      <td>0.5</td>\n",
       "      <td>1.65</td>\n",
       "      <td>0.0</td>\n",
       "      <td>0.3</td>\n",
       "      <td>9.95</td>\n",
       "      <td>2.5</td>\n",
       "    </tr>\n",
       "    <tr>\n",
       "      <th>4</th>\n",
       "      <td>2</td>\n",
       "      <td>7/19/2019 14:54</td>\n",
       "      <td>7/19/2019 15:19</td>\n",
       "      <td>1</td>\n",
       "      <td>4.79</td>\n",
       "      <td>1</td>\n",
       "      <td>N</td>\n",
       "      <td>237</td>\n",
       "      <td>107</td>\n",
       "      <td>1</td>\n",
       "      <td>19.5</td>\n",
       "      <td>0.0</td>\n",
       "      <td>0.5</td>\n",
       "      <td>5.70</td>\n",
       "      <td>0.0</td>\n",
       "      <td>0.3</td>\n",
       "      <td>28.50</td>\n",
       "      <td>2.5</td>\n",
       "    </tr>\n",
       "    <tr>\n",
       "      <th>...</th>\n",
       "      <td>...</td>\n",
       "      <td>...</td>\n",
       "      <td>...</td>\n",
       "      <td>...</td>\n",
       "      <td>...</td>\n",
       "      <td>...</td>\n",
       "      <td>...</td>\n",
       "      <td>...</td>\n",
       "      <td>...</td>\n",
       "      <td>...</td>\n",
       "      <td>...</td>\n",
       "      <td>...</td>\n",
       "      <td>...</td>\n",
       "      <td>...</td>\n",
       "      <td>...</td>\n",
       "      <td>...</td>\n",
       "      <td>...</td>\n",
       "      <td>...</td>\n",
       "    </tr>\n",
       "    <tr>\n",
       "      <th>195</th>\n",
       "      <td>2</td>\n",
       "      <td>1/18/2019 8:42</td>\n",
       "      <td>1/18/2019 8:56</td>\n",
       "      <td>1</td>\n",
       "      <td>1.18</td>\n",
       "      <td>1</td>\n",
       "      <td>N</td>\n",
       "      <td>43</td>\n",
       "      <td>237</td>\n",
       "      <td>1</td>\n",
       "      <td>10.0</td>\n",
       "      <td>0.0</td>\n",
       "      <td>0.5</td>\n",
       "      <td>2.16</td>\n",
       "      <td>0.0</td>\n",
       "      <td>0.3</td>\n",
       "      <td>12.96</td>\n",
       "      <td>0.0</td>\n",
       "    </tr>\n",
       "    <tr>\n",
       "      <th>196</th>\n",
       "      <td>1</td>\n",
       "      <td>1/19/2019 4:34</td>\n",
       "      <td>1/19/2019 4:43</td>\n",
       "      <td>1</td>\n",
       "      <td>2.30</td>\n",
       "      <td>1</td>\n",
       "      <td>N</td>\n",
       "      <td>148</td>\n",
       "      <td>234</td>\n",
       "      <td>1</td>\n",
       "      <td>9.5</td>\n",
       "      <td>0.5</td>\n",
       "      <td>0.5</td>\n",
       "      <td>2.15</td>\n",
       "      <td>0.0</td>\n",
       "      <td>0.3</td>\n",
       "      <td>12.95</td>\n",
       "      <td>0.0</td>\n",
       "    </tr>\n",
       "    <tr>\n",
       "      <th>197</th>\n",
       "      <td>2</td>\n",
       "      <td>1/5/2019 10:37</td>\n",
       "      <td>1/5/2019 10:42</td>\n",
       "      <td>1</td>\n",
       "      <td>0.83</td>\n",
       "      <td>1</td>\n",
       "      <td>N</td>\n",
       "      <td>237</td>\n",
       "      <td>263</td>\n",
       "      <td>1</td>\n",
       "      <td>5.0</td>\n",
       "      <td>0.0</td>\n",
       "      <td>0.5</td>\n",
       "      <td>1.16</td>\n",
       "      <td>0.0</td>\n",
       "      <td>0.3</td>\n",
       "      <td>6.96</td>\n",
       "      <td>0.0</td>\n",
       "    </tr>\n",
       "    <tr>\n",
       "      <th>198</th>\n",
       "      <td>2</td>\n",
       "      <td>1/23/2019 10:36</td>\n",
       "      <td>1/23/2019 10:44</td>\n",
       "      <td>2</td>\n",
       "      <td>1.12</td>\n",
       "      <td>1</td>\n",
       "      <td>N</td>\n",
       "      <td>144</td>\n",
       "      <td>113</td>\n",
       "      <td>2</td>\n",
       "      <td>7.0</td>\n",
       "      <td>0.0</td>\n",
       "      <td>0.5</td>\n",
       "      <td>0.00</td>\n",
       "      <td>0.0</td>\n",
       "      <td>0.3</td>\n",
       "      <td>7.80</td>\n",
       "      <td>0.0</td>\n",
       "    </tr>\n",
       "    <tr>\n",
       "      <th>199</th>\n",
       "      <td>2</td>\n",
       "      <td>1/30/2019 6:55</td>\n",
       "      <td>1/30/2019 7:07</td>\n",
       "      <td>5</td>\n",
       "      <td>2.41</td>\n",
       "      <td>1</td>\n",
       "      <td>N</td>\n",
       "      <td>209</td>\n",
       "      <td>107</td>\n",
       "      <td>1</td>\n",
       "      <td>10.5</td>\n",
       "      <td>0.0</td>\n",
       "      <td>0.5</td>\n",
       "      <td>1.00</td>\n",
       "      <td>0.0</td>\n",
       "      <td>0.3</td>\n",
       "      <td>12.30</td>\n",
       "      <td>0.0</td>\n",
       "    </tr>\n",
       "  </tbody>\n",
       "</table>\n",
       "<p>200 rows × 18 columns</p>\n",
       "</div>"
      ],
      "text/plain": [
       "     VendorID tpep_pickup_datetime tpep_dropoff_datetime  passenger_count  \\\n",
       "0           2      7/15/2019 16:27       7/15/2019 16:44                3   \n",
       "1           2      7/17/2019 20:26       7/17/2019 20:40                6   \n",
       "2           2       7/6/2019 16:01        7/6/2019 16:10                1   \n",
       "3           1      7/18/2019 22:32       7/18/2019 22:35                1   \n",
       "4           2      7/19/2019 14:54       7/19/2019 15:19                1   \n",
       "..        ...                  ...                   ...              ...   \n",
       "195         2       1/18/2019 8:42        1/18/2019 8:56                1   \n",
       "196         1       1/19/2019 4:34        1/19/2019 4:43                1   \n",
       "197         2       1/5/2019 10:37        1/5/2019 10:42                1   \n",
       "198         2      1/23/2019 10:36       1/23/2019 10:44                2   \n",
       "199         2       1/30/2019 6:55        1/30/2019 7:07                5   \n",
       "\n",
       "     trip_distance  RatecodeID store_and_fwd_flag  PULocationID  DOLocationID  \\\n",
       "0             2.02           1                  N           186           233   \n",
       "1             1.59           1                  N           141           161   \n",
       "2             1.69           1                  N           246           249   \n",
       "3             0.90           1                  N           229           141   \n",
       "4             4.79           1                  N           237           107   \n",
       "..             ...         ...                ...           ...           ...   \n",
       "195           1.18           1                  N            43           237   \n",
       "196           2.30           1                  N           148           234   \n",
       "197           0.83           1                  N           237           263   \n",
       "198           1.12           1                  N           144           113   \n",
       "199           2.41           1                  N           209           107   \n",
       "\n",
       "     payment_type  fare_amount  extra  mta_tax  tip_amount  tolls_amount  \\\n",
       "0               1         12.0    1.0      0.5        4.08           0.0   \n",
       "1               2         10.0    0.5      0.5        0.00           0.0   \n",
       "2               2          8.5    0.0      0.5        0.00           0.0   \n",
       "3               1          4.5    3.0      0.5        1.65           0.0   \n",
       "4               1         19.5    0.0      0.5        5.70           0.0   \n",
       "..            ...          ...    ...      ...         ...           ...   \n",
       "195             1         10.0    0.0      0.5        2.16           0.0   \n",
       "196             1          9.5    0.5      0.5        2.15           0.0   \n",
       "197             1          5.0    0.0      0.5        1.16           0.0   \n",
       "198             2          7.0    0.0      0.5        0.00           0.0   \n",
       "199             1         10.5    0.0      0.5        1.00           0.0   \n",
       "\n",
       "     improvement_surcharge  total_amount  congestion_surcharge  \n",
       "0                      0.3         20.38                   2.5  \n",
       "1                      0.3         13.80                   2.5  \n",
       "2                      0.3         11.80                   2.5  \n",
       "3                      0.3          9.95                   2.5  \n",
       "4                      0.3         28.50                   2.5  \n",
       "..                     ...           ...                   ...  \n",
       "195                    0.3         12.96                   0.0  \n",
       "196                    0.3         12.95                   0.0  \n",
       "197                    0.3          6.96                   0.0  \n",
       "198                    0.3          7.80                   0.0  \n",
       "199                    0.3         12.30                   0.0  \n",
       "\n",
       "[200 rows x 18 columns]"
      ]
     },
     "execution_count": 47,
     "metadata": {},
     "output_type": "execute_result"
    }
   ],
   "source": [
    "# Extracting the data\n",
    "df=pd.read_csv('taxi.csv')\n",
    "df"
   ]
  },
  {
   "cell_type": "code",
   "execution_count": 48,
   "id": "c5346231",
   "metadata": {},
   "outputs": [
    {
     "data": {
      "text/plain": [
       "Index(['VendorID', 'tpep_pickup_datetime', 'tpep_dropoff_datetime',\n",
       "       'passenger_count', 'trip_distance', 'RatecodeID', 'store_and_fwd_flag',\n",
       "       'PULocationID', 'DOLocationID', 'payment_type', 'fare_amount', 'extra',\n",
       "       'mta_tax', 'tip_amount', 'tolls_amount', 'improvement_surcharge',\n",
       "       'total_amount', 'congestion_surcharge'],\n",
       "      dtype='object')"
      ]
     },
     "execution_count": 48,
     "metadata": {},
     "output_type": "execute_result"
    }
   ],
   "source": [
    "df.columns"
   ]
  },
  {
   "cell_type": "code",
   "execution_count": 49,
   "id": "28a8ee19",
   "metadata": {},
   "outputs": [
    {
     "data": {
      "text/html": [
       "<div>\n",
       "<style scoped>\n",
       "    .dataframe tbody tr th:only-of-type {\n",
       "        vertical-align: middle;\n",
       "    }\n",
       "\n",
       "    .dataframe tbody tr th {\n",
       "        vertical-align: top;\n",
       "    }\n",
       "\n",
       "    .dataframe thead th {\n",
       "        text-align: right;\n",
       "    }\n",
       "</style>\n",
       "<table border=\"1\" class=\"dataframe\">\n",
       "  <thead>\n",
       "    <tr style=\"text-align: right;\">\n",
       "      <th></th>\n",
       "      <th>VendorID</th>\n",
       "      <th>passenger_count</th>\n",
       "      <th>trip_distance</th>\n",
       "      <th>RatecodeID</th>\n",
       "      <th>PULocationID</th>\n",
       "      <th>DOLocationID</th>\n",
       "      <th>payment_type</th>\n",
       "      <th>fare_amount</th>\n",
       "      <th>extra</th>\n",
       "      <th>mta_tax</th>\n",
       "      <th>tip_amount</th>\n",
       "      <th>tolls_amount</th>\n",
       "      <th>improvement_surcharge</th>\n",
       "      <th>total_amount</th>\n",
       "      <th>congestion_surcharge</th>\n",
       "    </tr>\n",
       "  </thead>\n",
       "  <tbody>\n",
       "    <tr>\n",
       "      <th>count</th>\n",
       "      <td>200.000000</td>\n",
       "      <td>200.000000</td>\n",
       "      <td>200.00000</td>\n",
       "      <td>200.000000</td>\n",
       "      <td>200.00000</td>\n",
       "      <td>200.000000</td>\n",
       "      <td>200.000000</td>\n",
       "      <td>200.000000</td>\n",
       "      <td>200.000000</td>\n",
       "      <td>200.000000</td>\n",
       "      <td>200.000000</td>\n",
       "      <td>200.000000</td>\n",
       "      <td>2.000000e+02</td>\n",
       "      <td>200.000000</td>\n",
       "      <td>200.000000</td>\n",
       "    </tr>\n",
       "    <tr>\n",
       "      <th>mean</th>\n",
       "      <td>1.605000</td>\n",
       "      <td>1.560000</td>\n",
       "      <td>3.72935</td>\n",
       "      <td>1.055000</td>\n",
       "      <td>162.26000</td>\n",
       "      <td>169.080000</td>\n",
       "      <td>1.285000</td>\n",
       "      <td>15.402500</td>\n",
       "      <td>0.790000</td>\n",
       "      <td>0.497500</td>\n",
       "      <td>2.013900</td>\n",
       "      <td>0.465700</td>\n",
       "      <td>3.000000e-01</td>\n",
       "      <td>20.154350</td>\n",
       "      <td>1.125000</td>\n",
       "    </tr>\n",
       "    <tr>\n",
       "      <th>std</th>\n",
       "      <td>0.519929</td>\n",
       "      <td>1.222239</td>\n",
       "      <td>4.71901</td>\n",
       "      <td>0.335466</td>\n",
       "      <td>64.62985</td>\n",
       "      <td>67.869618</td>\n",
       "      <td>0.452547</td>\n",
       "      <td>15.172931</td>\n",
       "      <td>1.048282</td>\n",
       "      <td>0.035355</td>\n",
       "      <td>2.292065</td>\n",
       "      <td>1.672997</td>\n",
       "      <td>1.057359e-15</td>\n",
       "      <td>17.072769</td>\n",
       "      <td>1.246855</td>\n",
       "    </tr>\n",
       "    <tr>\n",
       "      <th>min</th>\n",
       "      <td>1.000000</td>\n",
       "      <td>0.000000</td>\n",
       "      <td>0.16000</td>\n",
       "      <td>1.000000</td>\n",
       "      <td>4.00000</td>\n",
       "      <td>13.000000</td>\n",
       "      <td>1.000000</td>\n",
       "      <td>3.000000</td>\n",
       "      <td>0.000000</td>\n",
       "      <td>0.000000</td>\n",
       "      <td>0.000000</td>\n",
       "      <td>0.000000</td>\n",
       "      <td>3.000000e-01</td>\n",
       "      <td>4.300000</td>\n",
       "      <td>0.000000</td>\n",
       "    </tr>\n",
       "    <tr>\n",
       "      <th>25%</th>\n",
       "      <td>1.000000</td>\n",
       "      <td>1.000000</td>\n",
       "      <td>1.12750</td>\n",
       "      <td>1.000000</td>\n",
       "      <td>132.00000</td>\n",
       "      <td>131.250000</td>\n",
       "      <td>1.000000</td>\n",
       "      <td>7.000000</td>\n",
       "      <td>0.000000</td>\n",
       "      <td>0.500000</td>\n",
       "      <td>0.000000</td>\n",
       "      <td>0.000000</td>\n",
       "      <td>3.000000e-01</td>\n",
       "      <td>10.215000</td>\n",
       "      <td>0.000000</td>\n",
       "    </tr>\n",
       "    <tr>\n",
       "      <th>50%</th>\n",
       "      <td>2.000000</td>\n",
       "      <td>1.000000</td>\n",
       "      <td>1.88000</td>\n",
       "      <td>1.000000</td>\n",
       "      <td>161.00000</td>\n",
       "      <td>164.000000</td>\n",
       "      <td>1.000000</td>\n",
       "      <td>9.500000</td>\n",
       "      <td>0.500000</td>\n",
       "      <td>0.500000</td>\n",
       "      <td>1.650000</td>\n",
       "      <td>0.000000</td>\n",
       "      <td>3.000000e-01</td>\n",
       "      <td>14.120000</td>\n",
       "      <td>0.000000</td>\n",
       "    </tr>\n",
       "    <tr>\n",
       "      <th>75%</th>\n",
       "      <td>2.000000</td>\n",
       "      <td>2.000000</td>\n",
       "      <td>3.82000</td>\n",
       "      <td>1.000000</td>\n",
       "      <td>230.25000</td>\n",
       "      <td>236.000000</td>\n",
       "      <td>2.000000</td>\n",
       "      <td>17.000000</td>\n",
       "      <td>1.000000</td>\n",
       "      <td>0.500000</td>\n",
       "      <td>2.712500</td>\n",
       "      <td>0.000000</td>\n",
       "      <td>3.000000e-01</td>\n",
       "      <td>22.552500</td>\n",
       "      <td>2.500000</td>\n",
       "    </tr>\n",
       "    <tr>\n",
       "      <th>max</th>\n",
       "      <td>4.000000</td>\n",
       "      <td>6.000000</td>\n",
       "      <td>22.00000</td>\n",
       "      <td>5.000000</td>\n",
       "      <td>264.00000</td>\n",
       "      <td>265.000000</td>\n",
       "      <td>2.000000</td>\n",
       "      <td>120.000000</td>\n",
       "      <td>4.500000</td>\n",
       "      <td>0.500000</td>\n",
       "      <td>14.640000</td>\n",
       "      <td>10.700000</td>\n",
       "      <td>3.000000e-01</td>\n",
       "      <td>125.300000</td>\n",
       "      <td>2.500000</td>\n",
       "    </tr>\n",
       "  </tbody>\n",
       "</table>\n",
       "</div>"
      ],
      "text/plain": [
       "         VendorID  passenger_count  trip_distance  RatecodeID  PULocationID  \\\n",
       "count  200.000000       200.000000      200.00000  200.000000     200.00000   \n",
       "mean     1.605000         1.560000        3.72935    1.055000     162.26000   \n",
       "std      0.519929         1.222239        4.71901    0.335466      64.62985   \n",
       "min      1.000000         0.000000        0.16000    1.000000       4.00000   \n",
       "25%      1.000000         1.000000        1.12750    1.000000     132.00000   \n",
       "50%      2.000000         1.000000        1.88000    1.000000     161.00000   \n",
       "75%      2.000000         2.000000        3.82000    1.000000     230.25000   \n",
       "max      4.000000         6.000000       22.00000    5.000000     264.00000   \n",
       "\n",
       "       DOLocationID  payment_type  fare_amount       extra     mta_tax  \\\n",
       "count    200.000000    200.000000   200.000000  200.000000  200.000000   \n",
       "mean     169.080000      1.285000    15.402500    0.790000    0.497500   \n",
       "std       67.869618      0.452547    15.172931    1.048282    0.035355   \n",
       "min       13.000000      1.000000     3.000000    0.000000    0.000000   \n",
       "25%      131.250000      1.000000     7.000000    0.000000    0.500000   \n",
       "50%      164.000000      1.000000     9.500000    0.500000    0.500000   \n",
       "75%      236.000000      2.000000    17.000000    1.000000    0.500000   \n",
       "max      265.000000      2.000000   120.000000    4.500000    0.500000   \n",
       "\n",
       "       tip_amount  tolls_amount  improvement_surcharge  total_amount  \\\n",
       "count  200.000000    200.000000           2.000000e+02    200.000000   \n",
       "mean     2.013900      0.465700           3.000000e-01     20.154350   \n",
       "std      2.292065      1.672997           1.057359e-15     17.072769   \n",
       "min      0.000000      0.000000           3.000000e-01      4.300000   \n",
       "25%      0.000000      0.000000           3.000000e-01     10.215000   \n",
       "50%      1.650000      0.000000           3.000000e-01     14.120000   \n",
       "75%      2.712500      0.000000           3.000000e-01     22.552500   \n",
       "max     14.640000     10.700000           3.000000e-01    125.300000   \n",
       "\n",
       "       congestion_surcharge  \n",
       "count            200.000000  \n",
       "mean               1.125000  \n",
       "std                1.246855  \n",
       "min                0.000000  \n",
       "25%                0.000000  \n",
       "50%                0.000000  \n",
       "75%                2.500000  \n",
       "max                2.500000  "
      ]
     },
     "execution_count": 49,
     "metadata": {},
     "output_type": "execute_result"
    }
   ],
   "source": [
    "df.describe()"
   ]
  },
  {
   "cell_type": "code",
   "execution_count": 50,
   "id": "edc58a7e",
   "metadata": {},
   "outputs": [
    {
     "data": {
      "text/plain": [
       "0      20.38\n",
       "1      13.80\n",
       "2      11.80\n",
       "3       9.95\n",
       "4      28.50\n",
       "       ...  \n",
       "195    12.96\n",
       "196    12.95\n",
       "197     6.96\n",
       "198     7.80\n",
       "199    12.30\n",
       "Name: total_amount, Length: 200, dtype: float64"
      ]
     },
     "execution_count": 50,
     "metadata": {},
     "output_type": "execute_result"
    }
   ],
   "source": [
    "# checking whether total amount follows a normal distribution\n",
    "x=df.loc[:,'total_amount']\n",
    "x\n"
   ]
  },
  {
   "cell_type": "code",
   "execution_count": 51,
   "id": "4197e526",
   "metadata": {},
   "outputs": [
    {
     "data": {
      "text/plain": [
       "Text(0.5, 1.0, 'A histogram showing Total amount')"
      ]
     },
     "execution_count": 51,
     "metadata": {},
     "output_type": "execute_result"
    },
    {
     "data": {
      "image/png": "[encoded data removed]",
      "text/plain": [
       "<Figure size 640x480 with 1 Axes>"
      ]
     },
     "metadata": {},
     "output_type": "display_data"
    }
   ],
   "source": [
    "plt.hist(x)\n",
    "plt.xlabel(\"Total amount of time\")\n",
    "plt.ylabel('time')\n",
    "plt.title(\"A histogram showing Total amount\")\n",
    "\n",
    "# According to the histogram below,\n",
    "# The total amount data does not exhibit a “bell-shape” \n",
    "# thus, it is not normally distributed\n"
   ]
  },
  {
   "cell_type": "code",
   "execution_count": 59,
   "id": "c37ec51c",
   "metadata": {},
   "outputs": [
    {
     "data": {
      "image/png": "[encoded data removed]",
      "text/plain": [
       "<Figure size 640x480 with 1 Axes>"
      ]
     },
     "metadata": {},
     "output_type": "display_data"
    }
   ],
   "source": [
    "x=df.loc[:,'total_amount']\n",
    "plt.plot(x);\n"
   ]
  },
  {
   "cell_type": "code",
   "execution_count": 60,
   "id": "393ba270",
   "metadata": {},
   "outputs": [
    {
     "data": {
      "image/png": "[encoded data removed]",
      "text/plain": [
       "<Figure size 640x480 with 1 Axes>"
      ]
     },
     "metadata": {},
     "output_type": "display_data"
    }
   ],
   "source": [
    "x=df.loc[:,'total_amount']\n",
    "y=norm(0,1).cdf(x)\n",
    "plt.plot(x);\n",
    "plt.plot(y);"
   ]
  },
  {
   "cell_type": "code",
   "execution_count": 61,
   "id": "c7390d59",
   "metadata": {},
   "outputs": [
    {
     "data": {
      "text/html": [
       "<div>\n",
       "<style scoped>\n",
       "    .dataframe tbody tr th:only-of-type {\n",
       "        vertical-align: middle;\n",
       "    }\n",
       "\n",
       "    .dataframe tbody tr th {\n",
       "        vertical-align: top;\n",
       "    }\n",
       "\n",
       "    .dataframe thead th {\n",
       "        text-align: right;\n",
       "    }\n",
       "</style>\n",
       "<table border=\"1\" class=\"dataframe\">\n",
       "  <thead>\n",
       "    <tr style=\"text-align: right;\">\n",
       "      <th></th>\n",
       "      <th>VendorID</th>\n",
       "      <th>passenger_count</th>\n",
       "      <th>trip_distance</th>\n",
       "      <th>RatecodeID</th>\n",
       "      <th>PULocationID</th>\n",
       "      <th>DOLocationID</th>\n",
       "      <th>payment_type</th>\n",
       "      <th>fare_amount</th>\n",
       "      <th>extra</th>\n",
       "      <th>mta_tax</th>\n",
       "      <th>tip_amount</th>\n",
       "      <th>tolls_amount</th>\n",
       "      <th>improvement_surcharge</th>\n",
       "      <th>total_amount</th>\n",
       "      <th>congestion_surcharge</th>\n",
       "    </tr>\n",
       "  </thead>\n",
       "  <tbody>\n",
       "    <tr>\n",
       "      <th>0</th>\n",
       "      <td>2</td>\n",
       "      <td>3</td>\n",
       "      <td>2.02</td>\n",
       "      <td>1</td>\n",
       "      <td>186</td>\n",
       "      <td>233</td>\n",
       "      <td>1</td>\n",
       "      <td>12.0</td>\n",
       "      <td>1.0</td>\n",
       "      <td>0.5</td>\n",
       "      <td>4.08</td>\n",
       "      <td>0.0</td>\n",
       "      <td>0.3</td>\n",
       "      <td>20.38</td>\n",
       "      <td>2.5</td>\n",
       "    </tr>\n",
       "    <tr>\n",
       "      <th>1</th>\n",
       "      <td>2</td>\n",
       "      <td>6</td>\n",
       "      <td>1.59</td>\n",
       "      <td>1</td>\n",
       "      <td>141</td>\n",
       "      <td>161</td>\n",
       "      <td>2</td>\n",
       "      <td>10.0</td>\n",
       "      <td>0.5</td>\n",
       "      <td>0.5</td>\n",
       "      <td>0.00</td>\n",
       "      <td>0.0</td>\n",
       "      <td>0.3</td>\n",
       "      <td>13.80</td>\n",
       "      <td>2.5</td>\n",
       "    </tr>\n",
       "    <tr>\n",
       "      <th>2</th>\n",
       "      <td>2</td>\n",
       "      <td>1</td>\n",
       "      <td>1.69</td>\n",
       "      <td>1</td>\n",
       "      <td>246</td>\n",
       "      <td>249</td>\n",
       "      <td>2</td>\n",
       "      <td>8.5</td>\n",
       "      <td>0.0</td>\n",
       "      <td>0.5</td>\n",
       "      <td>0.00</td>\n",
       "      <td>0.0</td>\n",
       "      <td>0.3</td>\n",
       "      <td>11.80</td>\n",
       "      <td>2.5</td>\n",
       "    </tr>\n",
       "    <tr>\n",
       "      <th>3</th>\n",
       "      <td>1</td>\n",
       "      <td>1</td>\n",
       "      <td>0.90</td>\n",
       "      <td>1</td>\n",
       "      <td>229</td>\n",
       "      <td>141</td>\n",
       "      <td>1</td>\n",
       "      <td>4.5</td>\n",
       "      <td>3.0</td>\n",
       "      <td>0.5</td>\n",
       "      <td>1.65</td>\n",
       "      <td>0.0</td>\n",
       "      <td>0.3</td>\n",
       "      <td>9.95</td>\n",
       "      <td>2.5</td>\n",
       "    </tr>\n",
       "    <tr>\n",
       "      <th>4</th>\n",
       "      <td>2</td>\n",
       "      <td>1</td>\n",
       "      <td>4.79</td>\n",
       "      <td>1</td>\n",
       "      <td>237</td>\n",
       "      <td>107</td>\n",
       "      <td>1</td>\n",
       "      <td>19.5</td>\n",
       "      <td>0.0</td>\n",
       "      <td>0.5</td>\n",
       "      <td>5.70</td>\n",
       "      <td>0.0</td>\n",
       "      <td>0.3</td>\n",
       "      <td>28.50</td>\n",
       "      <td>2.5</td>\n",
       "    </tr>\n",
       "    <tr>\n",
       "      <th>...</th>\n",
       "      <td>...</td>\n",
       "      <td>...</td>\n",
       "      <td>...</td>\n",
       "      <td>...</td>\n",
       "      <td>...</td>\n",
       "      <td>...</td>\n",
       "      <td>...</td>\n",
       "      <td>...</td>\n",
       "      <td>...</td>\n",
       "      <td>...</td>\n",
       "      <td>...</td>\n",
       "      <td>...</td>\n",
       "      <td>...</td>\n",
       "      <td>...</td>\n",
       "      <td>...</td>\n",
       "    </tr>\n",
       "    <tr>\n",
       "      <th>195</th>\n",
       "      <td>2</td>\n",
       "      <td>1</td>\n",
       "      <td>1.18</td>\n",
       "      <td>1</td>\n",
       "      <td>43</td>\n",
       "      <td>237</td>\n",
       "      <td>1</td>\n",
       "      <td>10.0</td>\n",
       "      <td>0.0</td>\n",
       "      <td>0.5</td>\n",
       "      <td>2.16</td>\n",
       "      <td>0.0</td>\n",
       "      <td>0.3</td>\n",
       "      <td>12.96</td>\n",
       "      <td>0.0</td>\n",
       "    </tr>\n",
       "    <tr>\n",
       "      <th>196</th>\n",
       "      <td>1</td>\n",
       "      <td>1</td>\n",
       "      <td>2.30</td>\n",
       "      <td>1</td>\n",
       "      <td>148</td>\n",
       "      <td>234</td>\n",
       "      <td>1</td>\n",
       "      <td>9.5</td>\n",
       "      <td>0.5</td>\n",
       "      <td>0.5</td>\n",
       "      <td>2.15</td>\n",
       "      <td>0.0</td>\n",
       "      <td>0.3</td>\n",
       "      <td>12.95</td>\n",
       "      <td>0.0</td>\n",
       "    </tr>\n",
       "    <tr>\n",
       "      <th>197</th>\n",
       "      <td>2</td>\n",
       "      <td>1</td>\n",
       "      <td>0.83</td>\n",
       "      <td>1</td>\n",
       "      <td>237</td>\n",
       "      <td>263</td>\n",
       "      <td>1</td>\n",
       "      <td>5.0</td>\n",
       "      <td>0.0</td>\n",
       "      <td>0.5</td>\n",
       "      <td>1.16</td>\n",
       "      <td>0.0</td>\n",
       "      <td>0.3</td>\n",
       "      <td>6.96</td>\n",
       "      <td>0.0</td>\n",
       "    </tr>\n",
       "    <tr>\n",
       "      <th>198</th>\n",
       "      <td>2</td>\n",
       "      <td>2</td>\n",
       "      <td>1.12</td>\n",
       "      <td>1</td>\n",
       "      <td>144</td>\n",
       "      <td>113</td>\n",
       "      <td>2</td>\n",
       "      <td>7.0</td>\n",
       "      <td>0.0</td>\n",
       "      <td>0.5</td>\n",
       "      <td>0.00</td>\n",
       "      <td>0.0</td>\n",
       "      <td>0.3</td>\n",
       "      <td>7.80</td>\n",
       "      <td>0.0</td>\n",
       "    </tr>\n",
       "    <tr>\n",
       "      <th>199</th>\n",
       "      <td>2</td>\n",
       "      <td>5</td>\n",
       "      <td>2.41</td>\n",
       "      <td>1</td>\n",
       "      <td>209</td>\n",
       "      <td>107</td>\n",
       "      <td>1</td>\n",
       "      <td>10.5</td>\n",
       "      <td>0.0</td>\n",
       "      <td>0.5</td>\n",
       "      <td>1.00</td>\n",
       "      <td>0.0</td>\n",
       "      <td>0.3</td>\n",
       "      <td>12.30</td>\n",
       "      <td>0.0</td>\n",
       "    </tr>\n",
       "  </tbody>\n",
       "</table>\n",
       "<p>200 rows × 15 columns</p>\n",
       "</div>"
      ],
      "text/plain": [
       "     VendorID  passenger_count  trip_distance  RatecodeID  PULocationID  \\\n",
       "0           2                3           2.02           1           186   \n",
       "1           2                6           1.59           1           141   \n",
       "2           2                1           1.69           1           246   \n",
       "3           1                1           0.90           1           229   \n",
       "4           2                1           4.79           1           237   \n",
       "..        ...              ...            ...         ...           ...   \n",
       "195         2                1           1.18           1            43   \n",
       "196         1                1           2.30           1           148   \n",
       "197         2                1           0.83           1           237   \n",
       "198         2                2           1.12           1           144   \n",
       "199         2                5           2.41           1           209   \n",
       "\n",
       "     DOLocationID  payment_type  fare_amount  extra  mta_tax  tip_amount  \\\n",
       "0             233             1         12.0    1.0      0.5        4.08   \n",
       "1             161             2         10.0    0.5      0.5        0.00   \n",
       "2             249             2          8.5    0.0      0.5        0.00   \n",
       "3             141             1          4.5    3.0      0.5        1.65   \n",
       "4             107             1         19.5    0.0      0.5        5.70   \n",
       "..            ...           ...          ...    ...      ...         ...   \n",
       "195           237             1         10.0    0.0      0.5        2.16   \n",
       "196           234             1          9.5    0.5      0.5        2.15   \n",
       "197           263             1          5.0    0.0      0.5        1.16   \n",
       "198           113             2          7.0    0.0      0.5        0.00   \n",
       "199           107             1         10.5    0.0      0.5        1.00   \n",
       "\n",
       "     tolls_amount  improvement_surcharge  total_amount  congestion_surcharge  \n",
       "0             0.0                    0.3         20.38                   2.5  \n",
       "1             0.0                    0.3         13.80                   2.5  \n",
       "2             0.0                    0.3         11.80                   2.5  \n",
       "3             0.0                    0.3          9.95                   2.5  \n",
       "4             0.0                    0.3         28.50                   2.5  \n",
       "..            ...                    ...           ...                   ...  \n",
       "195           0.0                    0.3         12.96                   0.0  \n",
       "196           0.0                    0.3         12.95                   0.0  \n",
       "197           0.0                    0.3          6.96                   0.0  \n",
       "198           0.0                    0.3          7.80                   0.0  \n",
       "199           0.0                    0.3         12.30                   0.0  \n",
       "\n",
       "[200 rows x 15 columns]"
      ]
     },
     "execution_count": 61,
     "metadata": {},
     "output_type": "execute_result"
    }
   ],
   "source": [
    "# extracting on continous variables\n",
    "\n",
    "m=df.select_dtypes(include='number')\n",
    "m\n"
   ]
  },
  {
   "cell_type": "code",
   "execution_count": 70,
   "id": "16589af0",
   "metadata": {},
   "outputs": [
    {
     "data": {
      "text/plain": [
       "VendorID                   1.60500\n",
       "passenger_count            1.56000\n",
       "trip_distance              3.72935\n",
       "RatecodeID                 1.05500\n",
       "PULocationID             162.26000\n",
       "DOLocationID             169.08000\n",
       "payment_type               1.28500\n",
       "fare_amount               15.40250\n",
       "extra                      0.79000\n",
       "mta_tax                    0.49750\n",
       "tip_amount                 2.01390\n",
       "tolls_amount               0.46570\n",
       "improvement_surcharge      0.30000\n",
       "total_amount              20.15435\n",
       "congestion_surcharge       1.12500\n",
       "dtype: float64"
      ]
     },
     "execution_count": 70,
     "metadata": {},
     "output_type": "execute_result"
    }
   ],
   "source": [
    "# computing the mean of the continous variables, (m) in the dataset\n",
    "x=m.mean()\n",
    "x"
   ]
  },
  {
   "cell_type": "code",
   "execution_count": 72,
   "id": "fd409ea3",
   "metadata": {},
   "outputs": [
    {
     "data": {
      "text/plain": [
       "381.3233000000001"
      ]
     },
     "execution_count": 72,
     "metadata": {},
     "output_type": "execute_result"
    }
   ],
   "source": [
    "# getting mean of the continous variables mean\n",
    "y=x.sum()\n",
    "y"
   ]
  },
  {
   "cell_type": "code",
   "execution_count": 73,
   "id": "ed17caba",
   "metadata": {},
   "outputs": [
    {
     "data": {
      "text/plain": [
       "25.42155333333334"
      ]
     },
     "execution_count": 73,
     "metadata": {},
     "output_type": "execute_result"
    }
   ],
   "source": [
    "# mean of the continous variables mean (x), will be z\n",
    "z=y/15\n",
    "z"
   ]
  },
  {
   "cell_type": "code",
   "execution_count": 74,
   "id": "5170db28",
   "metadata": {
    "scrolled": true
   },
   "outputs": [
    {
     "data": {
      "text/plain": [
       "VendorID                 5.199295e-01\n",
       "passenger_count          1.222239e+00\n",
       "trip_distance            4.719010e+00\n",
       "RatecodeID               3.354664e-01\n",
       "PULocationID             6.462985e+01\n",
       "DOLocationID             6.786962e+01\n",
       "payment_type             4.525472e-01\n",
       "fare_amount              1.517293e+01\n",
       "extra                    1.048282e+00\n",
       "mta_tax                  3.535534e-02\n",
       "tip_amount               2.292065e+00\n",
       "tolls_amount             1.672997e+00\n",
       "improvement_surcharge    1.057359e-15\n",
       "total_amount             1.707277e+01\n",
       "congestion_surcharge     1.246855e+00\n",
       "dtype: float64"
      ]
     },
     "execution_count": 74,
     "metadata": {},
     "output_type": "execute_result"
    }
   ],
   "source": [
    "# computing the standard deviation of the continous variables, (m) in the dataset\n",
    "l=m.std()\n",
    "l"
   ]
  },
  {
   "cell_type": "code",
   "execution_count": 75,
   "id": "ef546ca5",
   "metadata": {},
   "outputs": [
    {
     "data": {
      "text/plain": [
       "178.28991471694357"
      ]
     },
     "execution_count": 75,
     "metadata": {},
     "output_type": "execute_result"
    }
   ],
   "source": [
    "n=l.sum()\n",
    "n"
   ]
  },
  {
   "cell_type": "code",
   "execution_count": 76,
   "id": "e641b7d6",
   "metadata": {},
   "outputs": [
    {
     "data": {
      "text/plain": [
       "11.885994314462904"
      ]
     },
     "execution_count": 76,
     "metadata": {},
     "output_type": "execute_result"
    }
   ],
   "source": [
    "# Standard deviation will be;\n",
    "p=n/15\n",
    "p"
   ]
  },
  {
   "cell_type": "code",
   "execution_count": 81,
   "id": "fd72d5d7",
   "metadata": {
    "scrolled": true
   },
   "outputs": [
    {
     "data": {
      "text/plain": [
       "array([ 1.        ,  1.28571429,  1.57142857,  1.85714286,  2.14285714,\n",
       "        2.42857143,  2.71428571,  3.        ,  3.28571429,  3.57142857,\n",
       "        3.85714286,  4.14285714,  4.42857143,  4.71428571,  5.        ,\n",
       "        5.28571429,  5.57142857,  5.85714286,  6.14285714,  6.42857143,\n",
       "        6.71428571,  7.        ,  7.28571429,  7.57142857,  7.85714286,\n",
       "        8.14285714,  8.42857143,  8.71428571,  9.        ,  9.28571429,\n",
       "        9.57142857,  9.85714286, 10.14285714, 10.42857143, 10.71428571,\n",
       "       11.        , 11.28571429, 11.57142857, 11.85714286, 12.14285714,\n",
       "       12.42857143, 12.71428571, 13.        , 13.28571429, 13.57142857,\n",
       "       13.85714286, 14.14285714, 14.42857143, 14.71428571, 15.        ])"
      ]
     },
     "execution_count": 81,
     "metadata": {},
     "output_type": "execute_result"
    }
   ],
   "source": [
    "myArray = np.linspace(1,15)\n",
    "myArray\n",
    "\n"
   ]
  },
  {
   "cell_type": "code",
   "execution_count": 82,
   "id": "9fbe4191",
   "metadata": {},
   "outputs": [
    {
     "data": {
      "text/plain": [
       "array([0.02275013, 0.0240666 , 0.0254465 , 0.02689204, 0.02840551,\n",
       "       0.0299892 , 0.03164542, 0.03337651, 0.03518483, 0.03707277,\n",
       "       0.03904269, 0.04109702, 0.04323813, 0.04546844, 0.04779035,\n",
       "       0.05020625, 0.05271851, 0.0553295 , 0.05804157, 0.06085702,\n",
       "       0.06377815, 0.0668072 , 0.06994638, 0.07319785, 0.07656373,\n",
       "       0.08004605, 0.0836468 , 0.08736791, 0.09121122, 0.09517849,\n",
       "       0.0992714 , 0.10349153, 0.10784037, 0.11231932, 0.11692964,\n",
       "       0.1216725 , 0.12654895, 0.13155991, 0.13670617, 0.14198839,\n",
       "       0.14740708, 0.15296263, 0.15865525, 0.16448504, 0.17045191,\n",
       "       0.17655562, 0.18279577, 0.1891718 , 0.19568297, 0.20232838])"
      ]
     },
     "execution_count": 82,
     "metadata": {},
     "output_type": "execute_result"
    }
   ],
   "source": [
    "# computing normal cdf for each value of the array\n",
    "newArray=norm(25,12).cdf(myArray)\n",
    "newArray"
   ]
  },
  {
   "cell_type": "code",
   "execution_count": 83,
   "id": "658135aa",
   "metadata": {},
   "outputs": [
    {
     "data": {
      "text/plain": [
       "Text(0.5, 1.0, 'A normal cdf')"
      ]
     },
     "execution_count": 83,
     "metadata": {},
     "output_type": "execute_result"
    },
    {
     "data": {
      "image/png": "[encoded data removed]",
      "text/plain": [
       "<Figure size 640x480 with 1 Axes>"
      ]
     },
     "metadata": {},
     "output_type": "display_data"
    }
   ],
   "source": [
    "#2(c) plotting the cdf with a gray line\n",
    "\n",
    "m = np.linspace(1,15)\n",
    "n = norm(25,12).cdf(m)\n",
    "plt.plot(n,color='gray');\n",
    "plt.title('A normal cdf')"
   ]
  },
  {
   "cell_type": "markdown",
   "id": "a8ba1d1a",
   "metadata": {},
   "source": [
    "#  QUESTION FOUR\n",
    "\n",
    "If we start with a principal sum, P, and earn compounded interest, the total accumulated value, V ,\n",
    "at the end of time t is:\n",
    "V = P\n",
    "\u0012\n",
    "1 +\n",
    "r\n",
    "n\n",
    "\u0013nt\n",
    "(2)\n",
    "where r is the annual interest rate and n is the compounding frequency. For example, if you deposit\n",
    "$2,100 in a bank paying an annual interest rate of 3.4% compounded quarterly, compute the balance\n",
    "after 7 years using the above variables.\n",
    "(a) Continuing the previous example, suppose you start with the same principle and the same interest\n",
    "rate, but interest is compounded twice per year, so n = 2. What would the total value be after\n",
    "7 years?\n",
    "(b) If interest is compounded continuously, the value after time is given by the formula:\n",
    "V = P ert (3)\n",
    "Translate this equation into Python and use it compute the value of the investment in the previous\n",
    "example with continuous compounding.\n"
   ]
  },
  {
   "cell_type": "code",
   "execution_count": 9,
   "id": "bcafacd1",
   "metadata": {},
   "outputs": [],
   "source": [
    "# summary of the variables given;\n",
    "p = 2100\n",
    "r = 0.034\n",
    "n = 4\n",
    "t = 12\n",
    "# a year made up of 12 months and calculating the total value after 7 years"
   ]
  },
  {
   "cell_type": "code",
   "execution_count": 10,
   "id": "199296de",
   "metadata": {},
   "outputs": [
    {
     "data": {
      "text/plain": [
       "2661.6108980682593"
      ]
     },
     "execution_count": 10,
     "metadata": {},
     "output_type": "execute_result"
    }
   ],
   "source": [
    "v = p*(1+(r/n))**(n*t)\n",
    "v = 2100*(1+ 0.034/4)**(4*7)\n",
    "v\n",
    "# The total value after 7 years will be $ 2661.6"
   ]
  },
  {
   "cell_type": "code",
   "execution_count": 12,
   "id": "3ce94f01",
   "metadata": {},
   "outputs": [
    {
     "data": {
      "text/plain": [
       "2658.965091277534"
      ]
     },
     "execution_count": 12,
     "metadata": {},
     "output_type": "execute_result"
    }
   ],
   "source": [
    "# part (a) same principle, same interest rate but interest is compounded twice per year\n",
    "# n=2,\n",
    "# Total value, v2 will be;\n",
    "\n",
    "v2 = p*(1+(r/n))**(n*t)\n",
    "v2 = 2100 *(1 +(0.034/2))**(2*7)\n",
    "v2\n",
    "# The total value is $ 2658.97"
   ]
  },
  {
   "cell_type": "code",
   "execution_count": 13,
   "id": "9a2a5375",
   "metadata": {},
   "outputs": [
    {
     "data": {
      "text/plain": [
       "6.175728457877729"
      ]
     },
     "execution_count": 13,
     "metadata": {},
     "output_type": "execute_result"
    }
   ],
   "source": [
    "# part (b) if interest is compunded continously;\n",
    "# V = P ert \n",
    "#  the value of the investment (v3) with continuous compounding will be;\n",
    "\n",
    "v3= 2100**(0.034*7) \n",
    "v3"
   ]
  },
  {
   "cell_type": "code",
   "execution_count": null,
   "id": "098c871f",
   "metadata": {},
   "outputs": [],
   "source": []
  },
  {
   "cell_type": "markdown",
   "id": "73296491",
   "metadata": {},
   "source": [
    "# QUESTION 5\n",
    "\n",
    "Recall that the linear regression problem can be solved using the Least Squares method by optimizing\n",
    "the normal equation below:\n",
    "Θ = ( ˆ XT X)\n",
    "−1XT\n",
    "y (4)\n",
    "Implement the simple linear regression and multiple linear regression using the taxi 2 dataset:"
   ]
  },
  {
   "cell_type": "code",
   "execution_count": 84,
   "id": "8efa1765",
   "metadata": {},
   "outputs": [
    {
     "data": {
      "text/html": [
       "<div>\n",
       "<style scoped>\n",
       "    .dataframe tbody tr th:only-of-type {\n",
       "        vertical-align: middle;\n",
       "    }\n",
       "\n",
       "    .dataframe tbody tr th {\n",
       "        vertical-align: top;\n",
       "    }\n",
       "\n",
       "    .dataframe thead th {\n",
       "        text-align: right;\n",
       "    }\n",
       "</style>\n",
       "<table border=\"1\" class=\"dataframe\">\n",
       "  <thead>\n",
       "    <tr style=\"text-align: right;\">\n",
       "      <th></th>\n",
       "      <th>VendorID</th>\n",
       "      <th>tpep_pickup_datetime</th>\n",
       "      <th>tpep_dropoff_datetime</th>\n",
       "      <th>passenger_count</th>\n",
       "      <th>trip_distance</th>\n",
       "      <th>RatecodeID</th>\n",
       "      <th>store_and_fwd_flag</th>\n",
       "      <th>PULocationID</th>\n",
       "      <th>DOLocationID</th>\n",
       "      <th>payment_type</th>\n",
       "      <th>fare_amount</th>\n",
       "      <th>extra</th>\n",
       "      <th>mta_tax</th>\n",
       "      <th>tip_amount</th>\n",
       "      <th>tolls_amount</th>\n",
       "      <th>improvement_surcharge</th>\n",
       "      <th>total_amount</th>\n",
       "      <th>congestion_surcharge</th>\n",
       "    </tr>\n",
       "  </thead>\n",
       "  <tbody>\n",
       "    <tr>\n",
       "      <th>0</th>\n",
       "      <td>2</td>\n",
       "      <td>7/15/2019 16:27</td>\n",
       "      <td>7/15/2019 16:44</td>\n",
       "      <td>3</td>\n",
       "      <td>2.02</td>\n",
       "      <td>1</td>\n",
       "      <td>N</td>\n",
       "      <td>186</td>\n",
       "      <td>233</td>\n",
       "      <td>1</td>\n",
       "      <td>12.0</td>\n",
       "      <td>1.0</td>\n",
       "      <td>0.5</td>\n",
       "      <td>4.08</td>\n",
       "      <td>0.0</td>\n",
       "      <td>0.3</td>\n",
       "      <td>20.38</td>\n",
       "      <td>2.5</td>\n",
       "    </tr>\n",
       "    <tr>\n",
       "      <th>1</th>\n",
       "      <td>2</td>\n",
       "      <td>7/17/2019 20:26</td>\n",
       "      <td>7/17/2019 20:40</td>\n",
       "      <td>6</td>\n",
       "      <td>1.59</td>\n",
       "      <td>1</td>\n",
       "      <td>N</td>\n",
       "      <td>141</td>\n",
       "      <td>161</td>\n",
       "      <td>2</td>\n",
       "      <td>10.0</td>\n",
       "      <td>0.5</td>\n",
       "      <td>0.5</td>\n",
       "      <td>0.00</td>\n",
       "      <td>0.0</td>\n",
       "      <td>0.3</td>\n",
       "      <td>13.80</td>\n",
       "      <td>2.5</td>\n",
       "    </tr>\n",
       "    <tr>\n",
       "      <th>2</th>\n",
       "      <td>2</td>\n",
       "      <td>7/6/2019 16:01</td>\n",
       "      <td>7/6/2019 16:10</td>\n",
       "      <td>1</td>\n",
       "      <td>1.69</td>\n",
       "      <td>1</td>\n",
       "      <td>N</td>\n",
       "      <td>246</td>\n",
       "      <td>249</td>\n",
       "      <td>2</td>\n",
       "      <td>8.5</td>\n",
       "      <td>0.0</td>\n",
       "      <td>0.5</td>\n",
       "      <td>0.00</td>\n",
       "      <td>0.0</td>\n",
       "      <td>0.3</td>\n",
       "      <td>11.80</td>\n",
       "      <td>2.5</td>\n",
       "    </tr>\n",
       "    <tr>\n",
       "      <th>3</th>\n",
       "      <td>1</td>\n",
       "      <td>7/18/2019 22:32</td>\n",
       "      <td>7/18/2019 22:35</td>\n",
       "      <td>1</td>\n",
       "      <td>0.90</td>\n",
       "      <td>1</td>\n",
       "      <td>N</td>\n",
       "      <td>229</td>\n",
       "      <td>141</td>\n",
       "      <td>1</td>\n",
       "      <td>4.5</td>\n",
       "      <td>3.0</td>\n",
       "      <td>0.5</td>\n",
       "      <td>1.65</td>\n",
       "      <td>0.0</td>\n",
       "      <td>0.3</td>\n",
       "      <td>9.95</td>\n",
       "      <td>2.5</td>\n",
       "    </tr>\n",
       "    <tr>\n",
       "      <th>4</th>\n",
       "      <td>2</td>\n",
       "      <td>7/19/2019 14:54</td>\n",
       "      <td>7/19/2019 15:19</td>\n",
       "      <td>1</td>\n",
       "      <td>4.79</td>\n",
       "      <td>1</td>\n",
       "      <td>N</td>\n",
       "      <td>237</td>\n",
       "      <td>107</td>\n",
       "      <td>1</td>\n",
       "      <td>19.5</td>\n",
       "      <td>0.0</td>\n",
       "      <td>0.5</td>\n",
       "      <td>5.70</td>\n",
       "      <td>0.0</td>\n",
       "      <td>0.3</td>\n",
       "      <td>28.50</td>\n",
       "      <td>2.5</td>\n",
       "    </tr>\n",
       "    <tr>\n",
       "      <th>...</th>\n",
       "      <td>...</td>\n",
       "      <td>...</td>\n",
       "      <td>...</td>\n",
       "      <td>...</td>\n",
       "      <td>...</td>\n",
       "      <td>...</td>\n",
       "      <td>...</td>\n",
       "      <td>...</td>\n",
       "      <td>...</td>\n",
       "      <td>...</td>\n",
       "      <td>...</td>\n",
       "      <td>...</td>\n",
       "      <td>...</td>\n",
       "      <td>...</td>\n",
       "      <td>...</td>\n",
       "      <td>...</td>\n",
       "      <td>...</td>\n",
       "      <td>...</td>\n",
       "    </tr>\n",
       "    <tr>\n",
       "      <th>195</th>\n",
       "      <td>2</td>\n",
       "      <td>1/18/2019 8:42</td>\n",
       "      <td>1/18/2019 8:56</td>\n",
       "      <td>1</td>\n",
       "      <td>1.18</td>\n",
       "      <td>1</td>\n",
       "      <td>N</td>\n",
       "      <td>43</td>\n",
       "      <td>237</td>\n",
       "      <td>1</td>\n",
       "      <td>10.0</td>\n",
       "      <td>0.0</td>\n",
       "      <td>0.5</td>\n",
       "      <td>2.16</td>\n",
       "      <td>0.0</td>\n",
       "      <td>0.3</td>\n",
       "      <td>12.96</td>\n",
       "      <td>0.0</td>\n",
       "    </tr>\n",
       "    <tr>\n",
       "      <th>196</th>\n",
       "      <td>1</td>\n",
       "      <td>1/19/2019 4:34</td>\n",
       "      <td>1/19/2019 4:43</td>\n",
       "      <td>1</td>\n",
       "      <td>2.30</td>\n",
       "      <td>1</td>\n",
       "      <td>N</td>\n",
       "      <td>148</td>\n",
       "      <td>234</td>\n",
       "      <td>1</td>\n",
       "      <td>9.5</td>\n",
       "      <td>0.5</td>\n",
       "      <td>0.5</td>\n",
       "      <td>2.15</td>\n",
       "      <td>0.0</td>\n",
       "      <td>0.3</td>\n",
       "      <td>12.95</td>\n",
       "      <td>0.0</td>\n",
       "    </tr>\n",
       "    <tr>\n",
       "      <th>197</th>\n",
       "      <td>2</td>\n",
       "      <td>1/5/2019 10:37</td>\n",
       "      <td>1/5/2019 10:42</td>\n",
       "      <td>1</td>\n",
       "      <td>0.83</td>\n",
       "      <td>1</td>\n",
       "      <td>N</td>\n",
       "      <td>237</td>\n",
       "      <td>263</td>\n",
       "      <td>1</td>\n",
       "      <td>5.0</td>\n",
       "      <td>0.0</td>\n",
       "      <td>0.5</td>\n",
       "      <td>1.16</td>\n",
       "      <td>0.0</td>\n",
       "      <td>0.3</td>\n",
       "      <td>6.96</td>\n",
       "      <td>0.0</td>\n",
       "    </tr>\n",
       "    <tr>\n",
       "      <th>198</th>\n",
       "      <td>2</td>\n",
       "      <td>1/23/2019 10:36</td>\n",
       "      <td>1/23/2019 10:44</td>\n",
       "      <td>2</td>\n",
       "      <td>1.12</td>\n",
       "      <td>1</td>\n",
       "      <td>N</td>\n",
       "      <td>144</td>\n",
       "      <td>113</td>\n",
       "      <td>2</td>\n",
       "      <td>7.0</td>\n",
       "      <td>0.0</td>\n",
       "      <td>0.5</td>\n",
       "      <td>0.00</td>\n",
       "      <td>0.0</td>\n",
       "      <td>0.3</td>\n",
       "      <td>7.80</td>\n",
       "      <td>0.0</td>\n",
       "    </tr>\n",
       "    <tr>\n",
       "      <th>199</th>\n",
       "      <td>2</td>\n",
       "      <td>1/30/2019 6:55</td>\n",
       "      <td>1/30/2019 7:07</td>\n",
       "      <td>5</td>\n",
       "      <td>2.41</td>\n",
       "      <td>1</td>\n",
       "      <td>N</td>\n",
       "      <td>209</td>\n",
       "      <td>107</td>\n",
       "      <td>1</td>\n",
       "      <td>10.5</td>\n",
       "      <td>0.0</td>\n",
       "      <td>0.5</td>\n",
       "      <td>1.00</td>\n",
       "      <td>0.0</td>\n",
       "      <td>0.3</td>\n",
       "      <td>12.30</td>\n",
       "      <td>0.0</td>\n",
       "    </tr>\n",
       "  </tbody>\n",
       "</table>\n",
       "<p>200 rows × 18 columns</p>\n",
       "</div>"
      ],
      "text/plain": [
       "     VendorID tpep_pickup_datetime tpep_dropoff_datetime  passenger_count  \\\n",
       "0           2      7/15/2019 16:27       7/15/2019 16:44                3   \n",
       "1           2      7/17/2019 20:26       7/17/2019 20:40                6   \n",
       "2           2       7/6/2019 16:01        7/6/2019 16:10                1   \n",
       "3           1      7/18/2019 22:32       7/18/2019 22:35                1   \n",
       "4           2      7/19/2019 14:54       7/19/2019 15:19                1   \n",
       "..        ...                  ...                   ...              ...   \n",
       "195         2       1/18/2019 8:42        1/18/2019 8:56                1   \n",
       "196         1       1/19/2019 4:34        1/19/2019 4:43                1   \n",
       "197         2       1/5/2019 10:37        1/5/2019 10:42                1   \n",
       "198         2      1/23/2019 10:36       1/23/2019 10:44                2   \n",
       "199         2       1/30/2019 6:55        1/30/2019 7:07                5   \n",
       "\n",
       "     trip_distance  RatecodeID store_and_fwd_flag  PULocationID  DOLocationID  \\\n",
       "0             2.02           1                  N           186           233   \n",
       "1             1.59           1                  N           141           161   \n",
       "2             1.69           1                  N           246           249   \n",
       "3             0.90           1                  N           229           141   \n",
       "4             4.79           1                  N           237           107   \n",
       "..             ...         ...                ...           ...           ...   \n",
       "195           1.18           1                  N            43           237   \n",
       "196           2.30           1                  N           148           234   \n",
       "197           0.83           1                  N           237           263   \n",
       "198           1.12           1                  N           144           113   \n",
       "199           2.41           1                  N           209           107   \n",
       "\n",
       "     payment_type  fare_amount  extra  mta_tax  tip_amount  tolls_amount  \\\n",
       "0               1         12.0    1.0      0.5        4.08           0.0   \n",
       "1               2         10.0    0.5      0.5        0.00           0.0   \n",
       "2               2          8.5    0.0      0.5        0.00           0.0   \n",
       "3               1          4.5    3.0      0.5        1.65           0.0   \n",
       "4               1         19.5    0.0      0.5        5.70           0.0   \n",
       "..            ...          ...    ...      ...         ...           ...   \n",
       "195             1         10.0    0.0      0.5        2.16           0.0   \n",
       "196             1          9.5    0.5      0.5        2.15           0.0   \n",
       "197             1          5.0    0.0      0.5        1.16           0.0   \n",
       "198             2          7.0    0.0      0.5        0.00           0.0   \n",
       "199             1         10.5    0.0      0.5        1.00           0.0   \n",
       "\n",
       "     improvement_surcharge  total_amount  congestion_surcharge  \n",
       "0                      0.3         20.38                   2.5  \n",
       "1                      0.3         13.80                   2.5  \n",
       "2                      0.3         11.80                   2.5  \n",
       "3                      0.3          9.95                   2.5  \n",
       "4                      0.3         28.50                   2.5  \n",
       "..                     ...           ...                   ...  \n",
       "195                    0.3         12.96                   0.0  \n",
       "196                    0.3         12.95                   0.0  \n",
       "197                    0.3          6.96                   0.0  \n",
       "198                    0.3          7.80                   0.0  \n",
       "199                    0.3         12.30                   0.0  \n",
       "\n",
       "[200 rows x 18 columns]"
      ]
     },
     "execution_count": 84,
     "metadata": {},
     "output_type": "execute_result"
    }
   ],
   "source": [
    "# extracting the data\n",
    "\n",
    "data=pd.read_csv('taxi.csv')\n",
    "data"
   ]
  },
  {
   "cell_type": "code",
   "execution_count": 85,
   "id": "64f088ee",
   "metadata": {},
   "outputs": [
    {
     "data": {
      "text/plain": [
       "<bound method NDFrame.head of      VendorID tpep_pickup_datetime tpep_dropoff_datetime  passenger_count  \\\n",
       "0           2      7/15/2019 16:27       7/15/2019 16:44                3   \n",
       "1           2      7/17/2019 20:26       7/17/2019 20:40                6   \n",
       "2           2       7/6/2019 16:01        7/6/2019 16:10                1   \n",
       "3           1      7/18/2019 22:32       7/18/2019 22:35                1   \n",
       "4           2      7/19/2019 14:54       7/19/2019 15:19                1   \n",
       "..        ...                  ...                   ...              ...   \n",
       "195         2       1/18/2019 8:42        1/18/2019 8:56                1   \n",
       "196         1       1/19/2019 4:34        1/19/2019 4:43                1   \n",
       "197         2       1/5/2019 10:37        1/5/2019 10:42                1   \n",
       "198         2      1/23/2019 10:36       1/23/2019 10:44                2   \n",
       "199         2       1/30/2019 6:55        1/30/2019 7:07                5   \n",
       "\n",
       "     trip_distance  RatecodeID store_and_fwd_flag  PULocationID  DOLocationID  \\\n",
       "0             2.02           1                  N           186           233   \n",
       "1             1.59           1                  N           141           161   \n",
       "2             1.69           1                  N           246           249   \n",
       "3             0.90           1                  N           229           141   \n",
       "4             4.79           1                  N           237           107   \n",
       "..             ...         ...                ...           ...           ...   \n",
       "195           1.18           1                  N            43           237   \n",
       "196           2.30           1                  N           148           234   \n",
       "197           0.83           1                  N           237           263   \n",
       "198           1.12           1                  N           144           113   \n",
       "199           2.41           1                  N           209           107   \n",
       "\n",
       "     payment_type  fare_amount  extra  mta_tax  tip_amount  tolls_amount  \\\n",
       "0               1         12.0    1.0      0.5        4.08           0.0   \n",
       "1               2         10.0    0.5      0.5        0.00           0.0   \n",
       "2               2          8.5    0.0      0.5        0.00           0.0   \n",
       "3               1          4.5    3.0      0.5        1.65           0.0   \n",
       "4               1         19.5    0.0      0.5        5.70           0.0   \n",
       "..            ...          ...    ...      ...         ...           ...   \n",
       "195             1         10.0    0.0      0.5        2.16           0.0   \n",
       "196             1          9.5    0.5      0.5        2.15           0.0   \n",
       "197             1          5.0    0.0      0.5        1.16           0.0   \n",
       "198             2          7.0    0.0      0.5        0.00           0.0   \n",
       "199             1         10.5    0.0      0.5        1.00           0.0   \n",
       "\n",
       "     improvement_surcharge  total_amount  congestion_surcharge  \n",
       "0                      0.3         20.38                   2.5  \n",
       "1                      0.3         13.80                   2.5  \n",
       "2                      0.3         11.80                   2.5  \n",
       "3                      0.3          9.95                   2.5  \n",
       "4                      0.3         28.50                   2.5  \n",
       "..                     ...           ...                   ...  \n",
       "195                    0.3         12.96                   0.0  \n",
       "196                    0.3         12.95                   0.0  \n",
       "197                    0.3          6.96                   0.0  \n",
       "198                    0.3          7.80                   0.0  \n",
       "199                    0.3         12.30                   0.0  \n",
       "\n",
       "[200 rows x 18 columns]>"
      ]
     },
     "execution_count": 85,
     "metadata": {},
     "output_type": "execute_result"
    }
   ],
   "source": [
    "data.head"
   ]
  },
  {
   "cell_type": "code",
   "execution_count": 93,
   "id": "13b3c558",
   "metadata": {
    "scrolled": true
   },
   "outputs": [
    {
     "data": {
      "text/html": [
       "<div>\n",
       "<style scoped>\n",
       "    .dataframe tbody tr th:only-of-type {\n",
       "        vertical-align: middle;\n",
       "    }\n",
       "\n",
       "    .dataframe tbody tr th {\n",
       "        vertical-align: top;\n",
       "    }\n",
       "\n",
       "    .dataframe thead th {\n",
       "        text-align: right;\n",
       "    }\n",
       "</style>\n",
       "<table border=\"1\" class=\"dataframe\">\n",
       "  <thead>\n",
       "    <tr style=\"text-align: right;\">\n",
       "      <th></th>\n",
       "      <th>VendorID</th>\n",
       "      <th>passenger_count</th>\n",
       "      <th>trip_distance</th>\n",
       "      <th>RatecodeID</th>\n",
       "      <th>PULocationID</th>\n",
       "      <th>DOLocationID</th>\n",
       "      <th>payment_type</th>\n",
       "      <th>fare_amount</th>\n",
       "      <th>extra</th>\n",
       "      <th>mta_tax</th>\n",
       "      <th>tip_amount</th>\n",
       "      <th>tolls_amount</th>\n",
       "      <th>improvement_surcharge</th>\n",
       "      <th>total_amount</th>\n",
       "      <th>congestion_surcharge</th>\n",
       "    </tr>\n",
       "  </thead>\n",
       "  <tbody>\n",
       "    <tr>\n",
       "      <th>count</th>\n",
       "      <td>200.000000</td>\n",
       "      <td>200.000000</td>\n",
       "      <td>200.00000</td>\n",
       "      <td>200.000000</td>\n",
       "      <td>200.00000</td>\n",
       "      <td>200.000000</td>\n",
       "      <td>200.000000</td>\n",
       "      <td>200.000000</td>\n",
       "      <td>200.000000</td>\n",
       "      <td>200.000000</td>\n",
       "      <td>200.000000</td>\n",
       "      <td>200.000000</td>\n",
       "      <td>2.000000e+02</td>\n",
       "      <td>200.000000</td>\n",
       "      <td>200.000000</td>\n",
       "    </tr>\n",
       "    <tr>\n",
       "      <th>mean</th>\n",
       "      <td>1.605000</td>\n",
       "      <td>1.560000</td>\n",
       "      <td>3.72935</td>\n",
       "      <td>1.055000</td>\n",
       "      <td>162.26000</td>\n",
       "      <td>169.080000</td>\n",
       "      <td>1.285000</td>\n",
       "      <td>15.402500</td>\n",
       "      <td>0.790000</td>\n",
       "      <td>0.497500</td>\n",
       "      <td>2.013900</td>\n",
       "      <td>0.465700</td>\n",
       "      <td>3.000000e-01</td>\n",
       "      <td>20.154350</td>\n",
       "      <td>1.125000</td>\n",
       "    </tr>\n",
       "    <tr>\n",
       "      <th>std</th>\n",
       "      <td>0.519929</td>\n",
       "      <td>1.222239</td>\n",
       "      <td>4.71901</td>\n",
       "      <td>0.335466</td>\n",
       "      <td>64.62985</td>\n",
       "      <td>67.869618</td>\n",
       "      <td>0.452547</td>\n",
       "      <td>15.172931</td>\n",
       "      <td>1.048282</td>\n",
       "      <td>0.035355</td>\n",
       "      <td>2.292065</td>\n",
       "      <td>1.672997</td>\n",
       "      <td>1.057359e-15</td>\n",
       "      <td>17.072769</td>\n",
       "      <td>1.246855</td>\n",
       "    </tr>\n",
       "    <tr>\n",
       "      <th>min</th>\n",
       "      <td>1.000000</td>\n",
       "      <td>0.000000</td>\n",
       "      <td>0.16000</td>\n",
       "      <td>1.000000</td>\n",
       "      <td>4.00000</td>\n",
       "      <td>13.000000</td>\n",
       "      <td>1.000000</td>\n",
       "      <td>3.000000</td>\n",
       "      <td>0.000000</td>\n",
       "      <td>0.000000</td>\n",
       "      <td>0.000000</td>\n",
       "      <td>0.000000</td>\n",
       "      <td>3.000000e-01</td>\n",
       "      <td>4.300000</td>\n",
       "      <td>0.000000</td>\n",
       "    </tr>\n",
       "    <tr>\n",
       "      <th>25%</th>\n",
       "      <td>1.000000</td>\n",
       "      <td>1.000000</td>\n",
       "      <td>1.12750</td>\n",
       "      <td>1.000000</td>\n",
       "      <td>132.00000</td>\n",
       "      <td>131.250000</td>\n",
       "      <td>1.000000</td>\n",
       "      <td>7.000000</td>\n",
       "      <td>0.000000</td>\n",
       "      <td>0.500000</td>\n",
       "      <td>0.000000</td>\n",
       "      <td>0.000000</td>\n",
       "      <td>3.000000e-01</td>\n",
       "      <td>10.215000</td>\n",
       "      <td>0.000000</td>\n",
       "    </tr>\n",
       "    <tr>\n",
       "      <th>50%</th>\n",
       "      <td>2.000000</td>\n",
       "      <td>1.000000</td>\n",
       "      <td>1.88000</td>\n",
       "      <td>1.000000</td>\n",
       "      <td>161.00000</td>\n",
       "      <td>164.000000</td>\n",
       "      <td>1.000000</td>\n",
       "      <td>9.500000</td>\n",
       "      <td>0.500000</td>\n",
       "      <td>0.500000</td>\n",
       "      <td>1.650000</td>\n",
       "      <td>0.000000</td>\n",
       "      <td>3.000000e-01</td>\n",
       "      <td>14.120000</td>\n",
       "      <td>0.000000</td>\n",
       "    </tr>\n",
       "    <tr>\n",
       "      <th>75%</th>\n",
       "      <td>2.000000</td>\n",
       "      <td>2.000000</td>\n",
       "      <td>3.82000</td>\n",
       "      <td>1.000000</td>\n",
       "      <td>230.25000</td>\n",
       "      <td>236.000000</td>\n",
       "      <td>2.000000</td>\n",
       "      <td>17.000000</td>\n",
       "      <td>1.000000</td>\n",
       "      <td>0.500000</td>\n",
       "      <td>2.712500</td>\n",
       "      <td>0.000000</td>\n",
       "      <td>3.000000e-01</td>\n",
       "      <td>22.552500</td>\n",
       "      <td>2.500000</td>\n",
       "    </tr>\n",
       "    <tr>\n",
       "      <th>max</th>\n",
       "      <td>4.000000</td>\n",
       "      <td>6.000000</td>\n",
       "      <td>22.00000</td>\n",
       "      <td>5.000000</td>\n",
       "      <td>264.00000</td>\n",
       "      <td>265.000000</td>\n",
       "      <td>2.000000</td>\n",
       "      <td>120.000000</td>\n",
       "      <td>4.500000</td>\n",
       "      <td>0.500000</td>\n",
       "      <td>14.640000</td>\n",
       "      <td>10.700000</td>\n",
       "      <td>3.000000e-01</td>\n",
       "      <td>125.300000</td>\n",
       "      <td>2.500000</td>\n",
       "    </tr>\n",
       "  </tbody>\n",
       "</table>\n",
       "</div>"
      ],
      "text/plain": [
       "         VendorID  passenger_count  trip_distance  RatecodeID  PULocationID  \\\n",
       "count  200.000000       200.000000      200.00000  200.000000     200.00000   \n",
       "mean     1.605000         1.560000        3.72935    1.055000     162.26000   \n",
       "std      0.519929         1.222239        4.71901    0.335466      64.62985   \n",
       "min      1.000000         0.000000        0.16000    1.000000       4.00000   \n",
       "25%      1.000000         1.000000        1.12750    1.000000     132.00000   \n",
       "50%      2.000000         1.000000        1.88000    1.000000     161.00000   \n",
       "75%      2.000000         2.000000        3.82000    1.000000     230.25000   \n",
       "max      4.000000         6.000000       22.00000    5.000000     264.00000   \n",
       "\n",
       "       DOLocationID  payment_type  fare_amount       extra     mta_tax  \\\n",
       "count    200.000000    200.000000   200.000000  200.000000  200.000000   \n",
       "mean     169.080000      1.285000    15.402500    0.790000    0.497500   \n",
       "std       67.869618      0.452547    15.172931    1.048282    0.035355   \n",
       "min       13.000000      1.000000     3.000000    0.000000    0.000000   \n",
       "25%      131.250000      1.000000     7.000000    0.000000    0.500000   \n",
       "50%      164.000000      1.000000     9.500000    0.500000    0.500000   \n",
       "75%      236.000000      2.000000    17.000000    1.000000    0.500000   \n",
       "max      265.000000      2.000000   120.000000    4.500000    0.500000   \n",
       "\n",
       "       tip_amount  tolls_amount  improvement_surcharge  total_amount  \\\n",
       "count  200.000000    200.000000           2.000000e+02    200.000000   \n",
       "mean     2.013900      0.465700           3.000000e-01     20.154350   \n",
       "std      2.292065      1.672997           1.057359e-15     17.072769   \n",
       "min      0.000000      0.000000           3.000000e-01      4.300000   \n",
       "25%      0.000000      0.000000           3.000000e-01     10.215000   \n",
       "50%      1.650000      0.000000           3.000000e-01     14.120000   \n",
       "75%      2.712500      0.000000           3.000000e-01     22.552500   \n",
       "max     14.640000     10.700000           3.000000e-01    125.300000   \n",
       "\n",
       "       congestion_surcharge  \n",
       "count            200.000000  \n",
       "mean               1.125000  \n",
       "std                1.246855  \n",
       "min                0.000000  \n",
       "25%                0.000000  \n",
       "50%                0.000000  \n",
       "75%                2.500000  \n",
       "max                2.500000  "
      ]
     },
     "execution_count": 93,
     "metadata": {},
     "output_type": "execute_result"
    }
   ],
   "source": [
    "data.describe()"
   ]
  },
  {
   "cell_type": "code",
   "execution_count": 98,
   "id": "26671479",
   "metadata": {},
   "outputs": [
    {
     "data": {
      "text/plain": [
       "RandomState(MT19937) at 0x1B4BF74E940"
      ]
     },
     "execution_count": 98,
     "metadata": {},
     "output_type": "execute_result"
    }
   ],
   "source": [
    "# question5 solving using least squares method by optimzing the normal equation\n",
    "# we'll start with creating a class\n",
    "rng=np.random.RandomState(35)\n",
    "#this is a class\n",
    "rng"
   ]
  },
  {
   "cell_type": "code",
   "execution_count": 99,
   "id": "ead5e4cb",
   "metadata": {},
   "outputs": [
    {
     "data": {
      "text/plain": [
       "array([2.29027474, 1.54174803, 1.15743523, 1.38712276, 4.08617406,\n",
       "       0.55673318, 3.13218614, 1.38393943, 3.41087337, 3.39485392,\n",
       "       3.98358709, 0.22901081, 4.56299137, 1.06907993, 1.51818651,\n",
       "       4.94531812, 0.92940751, 4.94362418, 3.75042116, 1.11193023,\n",
       "       0.73951954, 2.57895138, 1.97129159, 0.34940063, 1.69112885,\n",
       "       0.05518611, 3.83763929, 4.37361065, 2.6679716 , 0.42206375,\n",
       "       4.12165598, 2.52290598, 4.40809313, 0.87023142, 2.01478943,\n",
       "       4.16063272, 4.89331236, 3.09582383, 4.34960328, 1.2443845 ,\n",
       "       3.21516979, 1.50225329, 1.22680276, 2.73011842, 0.59880421])"
      ]
     },
     "execution_count": 99,
     "metadata": {},
     "output_type": "execute_result"
    }
   ],
   "source": [
    "# then we will create a random state like scenario, like imagining real worlds\n",
    "x=5*rng.rand(45)\n",
    "x\n",
    "\n",
    "#y=mx+c"
   ]
  },
  {
   "cell_type": "code",
   "execution_count": 100,
   "id": "d5ada9c9",
   "metadata": {},
   "outputs": [
    {
     "data": {
      "text/plain": [
       "array([ 3.92364619,  2.71528303,  2.14642237,  2.12963341,  7.40775988,\n",
       "        0.91550169,  5.86808515,  2.26150901,  6.7547979 ,  6.44281959,\n",
       "        7.64602361, -0.2303195 ,  8.24612514,  1.2930781 ,  2.80248498,\n",
       "        9.40313912,  1.320419  ,  9.63991098,  7.45194865,  1.36080122,\n",
       "        1.42822474,  4.27338592,  3.93285761,  0.13893311,  2.52440856,\n",
       "       -0.21683713,  6.94064178,  8.32070028,  4.4495552 ,  0.7037384 ,\n",
       "        7.24639546,  4.58031963,  8.27175381,  1.19842985,  3.73386792,\n",
       "        7.36188474,  9.00817069,  5.53848038,  8.65774374,  1.9619193 ,\n",
       "        6.05109704,  2.3804937 ,  1.82152213,  5.00952208,  0.72476934])"
      ]
     },
     "execution_count": 100,
     "metadata": {},
     "output_type": "execute_result"
    }
   ],
   "source": [
    "y=2*x-1+rng.random(45)\n",
    "y"
   ]
  },
  {
   "cell_type": "code",
   "execution_count": 101,
   "id": "5b4d9f03",
   "metadata": {},
   "outputs": [
    {
     "data": {
      "text/plain": [
       "<matplotlib.collections.PathCollection at 0x1b4bf7f0d60>"
      ]
     },
     "execution_count": 101,
     "metadata": {},
     "output_type": "execute_result"
    },
    {
     "data": {
      "image/png": "[encoded data removed]",
      "text/plain": [
       "<Figure size 640x480 with 1 Axes>"
      ]
     },
     "metadata": {},
     "output_type": "display_data"
    }
   ],
   "source": [
    "# plotting the x and y generated\n",
    "plt.scatter(x,y)\n",
    "\n",
    "# from the scatter plot below,\n",
    "# x and y are highly correlate, we can draw the line of the best fit"
   ]
  },
  {
   "cell_type": "code",
   "execution_count": 102,
   "id": "7d69e12a",
   "metadata": {},
   "outputs": [],
   "source": [
    "# importing the class model\n",
    "import sklearn\n",
    "from sklearn.linear_model import LinearRegression"
   ]
  },
  {
   "cell_type": "code",
   "execution_count": 103,
   "id": "f1ff53b5",
   "metadata": {},
   "outputs": [
    {
     "data": {
      "text/plain": [
       "LinearRegression()"
      ]
     },
     "execution_count": 103,
     "metadata": {},
     "output_type": "execute_result"
    }
   ],
   "source": [
    "# choose a model hyper parameters,, optimizing to get the best out of it\n",
    "myModel=LinearRegression(fit_intercept=True)\n",
    "myModel\n",
    "#here myModel stores the hyper parameter values"
   ]
  },
  {
   "cell_type": "code",
   "execution_count": 104,
   "id": "9d2d0532",
   "metadata": {},
   "outputs": [
    {
     "data": {
      "text/plain": [
       "array([[2.29027474],\n",
       "       [1.54174803],\n",
       "       [1.15743523],\n",
       "       [1.38712276],\n",
       "       [4.08617406],\n",
       "       [0.55673318],\n",
       "       [3.13218614],\n",
       "       [1.38393943],\n",
       "       [3.41087337],\n",
       "       [3.39485392],\n",
       "       [3.98358709],\n",
       "       [0.22901081],\n",
       "       [4.56299137],\n",
       "       [1.06907993],\n",
       "       [1.51818651],\n",
       "       [4.94531812],\n",
       "       [0.92940751],\n",
       "       [4.94362418],\n",
       "       [3.75042116],\n",
       "       [1.11193023],\n",
       "       [0.73951954],\n",
       "       [2.57895138],\n",
       "       [1.97129159],\n",
       "       [0.34940063],\n",
       "       [1.69112885],\n",
       "       [0.05518611],\n",
       "       [3.83763929],\n",
       "       [4.37361065],\n",
       "       [2.6679716 ],\n",
       "       [0.42206375],\n",
       "       [4.12165598],\n",
       "       [2.52290598],\n",
       "       [4.40809313],\n",
       "       [0.87023142],\n",
       "       [2.01478943],\n",
       "       [4.16063272],\n",
       "       [4.89331236],\n",
       "       [3.09582383],\n",
       "       [4.34960328],\n",
       "       [1.2443845 ],\n",
       "       [3.21516979],\n",
       "       [1.50225329],\n",
       "       [1.22680276],\n",
       "       [2.73011842],\n",
       "       [0.59880421]])"
      ]
     },
     "execution_count": 104,
     "metadata": {},
     "output_type": "execute_result"
    }
   ],
   "source": [
    "#  Arranging the data into features matrix(x) and target vector(y)\n",
    "# slicing the matrix\n",
    "x=x[:,np.newaxis]\n",
    "x"
   ]
  },
  {
   "cell_type": "code",
   "execution_count": 105,
   "id": "09671bb0",
   "metadata": {},
   "outputs": [
    {
     "data": {
      "text/plain": [
       "(45, 1)"
      ]
     },
     "execution_count": 105,
     "metadata": {},
     "output_type": "execute_result"
    }
   ],
   "source": [
    "# we can get the shape of x\n",
    "x.shape"
   ]
  },
  {
   "cell_type": "code",
   "execution_count": 106,
   "id": "fe8ae9c8",
   "metadata": {},
   "outputs": [
    {
     "data": {
      "text/plain": [
       "LinearRegression()"
      ]
     },
     "execution_count": 106,
     "metadata": {},
     "output_type": "execute_result"
    }
   ],
   "source": [
    "# i can fit my model to the data\n",
    "myModel.fit(x,y)"
   ]
  },
  {
   "cell_type": "code",
   "execution_count": 107,
   "id": "45e67835",
   "metadata": {},
   "outputs": [
    {
     "data": {
      "text/plain": [
       "array([1.97841471])"
      ]
     },
     "execution_count": 107,
     "metadata": {},
     "output_type": "execute_result"
    }
   ],
   "source": [
    "# we can retrieve the data\n",
    "# getting the coefficient and intercept\n",
    "myModel.coef_"
   ]
  },
  {
   "cell_type": "code",
   "execution_count": 108,
   "id": "334a48e0",
   "metadata": {},
   "outputs": [
    {
     "data": {
      "text/plain": [
       "-0.4479572033172019"
      ]
     },
     "execution_count": 108,
     "metadata": {},
     "output_type": "execute_result"
    }
   ],
   "source": [
    "myModel.intercept_"
   ]
  },
  {
   "cell_type": "markdown",
   "id": "73063e97",
   "metadata": {},
   "source": [
    "The above stages would mean, i have made myModel learn the data."
   ]
  },
  {
   "cell_type": "code",
   "execution_count": 115,
   "id": "9f0725ed",
   "metadata": {
    "scrolled": true
   },
   "outputs": [
    {
     "data": {
      "text/plain": [
       "array([-1.        , -0.7755102 , -0.55102041, -0.32653061, -0.10204082,\n",
       "        0.12244898,  0.34693878,  0.57142857,  0.79591837,  1.02040816,\n",
       "        1.24489796,  1.46938776,  1.69387755,  1.91836735,  2.14285714,\n",
       "        2.36734694,  2.59183673,  2.81632653,  3.04081633,  3.26530612,\n",
       "        3.48979592,  3.71428571,  3.93877551,  4.16326531,  4.3877551 ,\n",
       "        4.6122449 ,  4.83673469,  5.06122449,  5.28571429,  5.51020408,\n",
       "        5.73469388,  5.95918367,  6.18367347,  6.40816327,  6.63265306,\n",
       "        6.85714286,  7.08163265,  7.30612245,  7.53061224,  7.75510204,\n",
       "        7.97959184,  8.20408163,  8.42857143,  8.65306122,  8.87755102,\n",
       "        9.10204082,  9.32653061,  9.55102041,  9.7755102 , 10.        ])"
      ]
     },
     "execution_count": 115,
     "metadata": {},
     "output_type": "execute_result"
    }
   ],
   "source": [
    "# we can go ahead with Predicting labels of unknown data\n",
    "xfit=np.linspace(-1,10)\n",
    "xfit"
   ]
  },
  {
   "cell_type": "code",
   "execution_count": 121,
   "id": "dbdf2fd3",
   "metadata": {},
   "outputs": [
    {
     "data": {
      "text/plain": [
       "Index(['VendorID', 'tpep_pickup_datetime', 'tpep_dropoff_datetime',\n",
       "       'passenger_count', 'trip_distance', 'RatecodeID', 'store_and_fwd_flag',\n",
       "       'PULocationID', 'DOLocationID', 'payment_type', 'fare_amount', 'extra',\n",
       "       'mta_tax', 'tip_amount', 'tolls_amount', 'improvement_surcharge',\n",
       "       'total_amount', 'congestion_surcharge'],\n",
       "      dtype='object')"
      ]
     },
     "execution_count": 121,
     "metadata": {},
     "output_type": "execute_result"
    }
   ],
   "source": [
    "data.columns"
   ]
  },
  {
   "cell_type": "markdown",
   "id": "7a598a1a",
   "metadata": {},
   "source": [
    "xfit=xfit[:,np.newaxis]\n"
   ]
  },
  {
   "cell_type": "code",
   "execution_count": 120,
   "id": "97144aad",
   "metadata": {},
   "outputs": [
    {
     "ename": "NameError",
     "evalue": "name 'model' is not defined",
     "output_type": "error",
     "traceback": [
      "\u001b[1;31m---------------------------------------------------------------------------\u001b[0m",
      "\u001b[1;31mNameError\u001b[0m                                 Traceback (most recent call last)",
      "\u001b[1;32m~\\AppData\\Local\\Temp\\ipykernel_7092\\56123142.py\u001b[0m in \u001b[0;36m<module>\u001b[1;34m\u001b[0m\n\u001b[1;32m----> 1\u001b[1;33m \u001b[0myfit\u001b[0m\u001b[1;33m=\u001b[0m\u001b[0mmodel\u001b[0m\u001b[1;33m.\u001b[0m\u001b[0mpredict\u001b[0m\u001b[1;33m(\u001b[0m\u001b[0mxfit\u001b[0m\u001b[1;33m)\u001b[0m\u001b[1;33m\u001b[0m\u001b[1;33m\u001b[0m\u001b[0m\n\u001b[0m\u001b[0;32m      2\u001b[0m \u001b[0myfit\u001b[0m\u001b[1;33m\u001b[0m\u001b[1;33m\u001b[0m\u001b[0m\n",
      "\u001b[1;31mNameError\u001b[0m: name 'model' is not defined"
     ]
    }
   ],
   "source": [
    "yfit=model.predict(xfit)\n",
    "yfit"
   ]
  },
  {
   "cell_type": "code",
   "execution_count": 118,
   "id": "b8d78996",
   "metadata": {},
   "outputs": [
    {
     "ename": "NameError",
     "evalue": "name 'yfit' is not defined",
     "output_type": "error",
     "traceback": [
      "\u001b[1;31m---------------------------------------------------------------------------\u001b[0m",
      "\u001b[1;31mNameError\u001b[0m                                 Traceback (most recent call last)",
      "\u001b[1;32m~\\AppData\\Local\\Temp\\ipykernel_7092\\3646058395.py\u001b[0m in \u001b[0;36m<module>\u001b[1;34m\u001b[0m\n\u001b[1;32m----> 1\u001b[1;33m \u001b[0mplt\u001b[0m\u001b[1;33m.\u001b[0m\u001b[0mscatter\u001b[0m\u001b[1;33m(\u001b[0m\u001b[0mxfit\u001b[0m\u001b[1;33m,\u001b[0m\u001b[0myfit\u001b[0m\u001b[1;33m)\u001b[0m\u001b[1;33m\u001b[0m\u001b[1;33m\u001b[0m\u001b[0m\n\u001b[0m",
      "\u001b[1;31mNameError\u001b[0m: name 'yfit' is not defined"
     ]
    }
   ],
   "source": [
    "plt.scatter(xfit,yfit)"
   ]
  },
  {
   "cell_type": "code",
   "execution_count": null,
   "id": "a87b25f0",
   "metadata": {},
   "outputs": [],
   "source": []
  },
  {
   "cell_type": "code",
   "execution_count": null,
   "id": "85f58eca",
   "metadata": {},
   "outputs": [],
   "source": []
  },
  {
   "cell_type": "code",
   "execution_count": null,
   "id": "37076d23",
   "metadata": {},
   "outputs": [],
   "source": []
  },
  {
   "cell_type": "code",
   "execution_count": null,
   "id": "eade3321",
   "metadata": {},
   "outputs": [],
   "source": []
  },
  {
   "cell_type": "code",
   "execution_count": null,
   "id": "4a0d2109",
   "metadata": {},
   "outputs": [],
   "source": []
  },
  {
   "cell_type": "code",
   "execution_count": null,
   "id": "4490874e",
   "metadata": {},
   "outputs": [],
   "source": []
  },
  {
   "cell_type": "code",
   "execution_count": null,
   "id": "459ec0d6",
   "metadata": {},
   "outputs": [],
   "source": []
  },
  {
   "cell_type": "code",
   "execution_count": null,
   "id": "7179133a",
   "metadata": {},
   "outputs": [],
   "source": []
  },
  {
   "cell_type": "code",
   "execution_count": null,
   "id": "86cb187d",
   "metadata": {},
   "outputs": [],
   "source": []
  },
  {
   "cell_type": "code",
   "execution_count": null,
   "id": "e44af6a1",
   "metadata": {},
   "outputs": [],
   "source": []
  },
  {
   "cell_type": "code",
   "execution_count": null,
   "id": "8765933d",
   "metadata": {},
   "outputs": [],
   "source": []
  },
  {
   "cell_type": "code",
   "execution_count": null,
   "id": "d8fec9ae",
   "metadata": {},
   "outputs": [],
   "source": []
  }
 ],
 "metadata": {
  "kernelspec": {
   "display_name": "Python 3 (ipykernel)",
   "language": "python",
   "name": "python3"
  },
  "language_info": {
   "codemirror_mode": {
    "name": "ipython",
    "version": 3
   },
   "file_extension": ".py",
   "mimetype": "text/x-python",
   "name": "python",
   "nbconvert_exporter": "python",
   "pygments_lexer": "ipython3",
   "version": "3.9.13"
  }
 },
 "nbformat": 4,
 "nbformat_minor": 5
}
